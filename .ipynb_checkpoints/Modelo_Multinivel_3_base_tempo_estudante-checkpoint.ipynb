{
 "cells": [
  {
   "cell_type": "code",
   "execution_count": 56,
   "id": "b8417a6d",
   "metadata": {},
   "outputs": [],
   "source": [
    "import pandas as pd\n",
    "import numpy as np\n",
    "import matplotlib.pyplot as plt\n",
    "import seaborn as sns"
   ]
  },
  {
   "cell_type": "markdown",
   "id": "6312143e",
   "metadata": {},
   "source": [
    "# Modelos Multinível com 3 Níveis\n",
    "\n",
    "Exmplo da aula do MBA DSA USP/ESALQ com Prof. Luiz Fávero\n",
    "\n",
    "Modelos que reconhecem a existência de estruturas multinível ou hierárquicas. <br>\n",
    "\n",
    "Melhor previsibilidade em relação aos Modelos OLS\n",
    "\n",
    "\n",
    "Devemos testar se os termos aleatórios são estatisticamente diferentes de zero.<br> Se forem, os modelos tradicionais OLS não serão adequados.\n",
    "\n",
    "\n",
    "\n",
    "### Contexto\n",
    "\n",
    "Monitorar o estudando ao longo do tempo (meses)\n",
    "Vários períodos aninhados em um estudante (mes 1, 2, 3 e 4 para observação i)\n",
    "\n",
    "Período - Nível 1\n",
    "Indivíduo - Nível 2\n",
    "Escola - Nível 3\n",
    "\n",
    "Desempenho no vestibular<br>\n",
    "Atividades complementares <br>\n",
    "Tempo de Experiência médio dos professores na referida escola <br>"
   ]
  },
  {
   "cell_type": "code",
   "execution_count": 57,
   "id": "feda8b18",
   "metadata": {},
   "outputs": [
    {
     "data": {
      "text/html": [
       "<div>\n",
       "<style scoped>\n",
       "    .dataframe tbody tr th:only-of-type {\n",
       "        vertical-align: middle;\n",
       "    }\n",
       "\n",
       "    .dataframe tbody tr th {\n",
       "        vertical-align: top;\n",
       "    }\n",
       "\n",
       "    .dataframe thead th {\n",
       "        text-align: right;\n",
       "    }\n",
       "</style>\n",
       "<table border=\"1\" class=\"dataframe\">\n",
       "  <thead>\n",
       "    <tr style=\"text-align: right;\">\n",
       "      <th></th>\n",
       "      <th>escola</th>\n",
       "      <th>estudante</th>\n",
       "      <th>mes</th>\n",
       "      <th>desempenho</th>\n",
       "      <th>ativ</th>\n",
       "      <th>texp</th>\n",
       "    </tr>\n",
       "  </thead>\n",
       "  <tbody>\n",
       "    <tr>\n",
       "      <th>0</th>\n",
       "      <td>1</td>\n",
       "      <td>1</td>\n",
       "      <td>1</td>\n",
       "      <td>35.400002</td>\n",
       "      <td>não</td>\n",
       "      <td>2</td>\n",
       "    </tr>\n",
       "    <tr>\n",
       "      <th>1</th>\n",
       "      <td>1</td>\n",
       "      <td>1</td>\n",
       "      <td>2</td>\n",
       "      <td>44.400002</td>\n",
       "      <td>não</td>\n",
       "      <td>2</td>\n",
       "    </tr>\n",
       "    <tr>\n",
       "      <th>2</th>\n",
       "      <td>1</td>\n",
       "      <td>1</td>\n",
       "      <td>3</td>\n",
       "      <td>46.400002</td>\n",
       "      <td>não</td>\n",
       "      <td>2</td>\n",
       "    </tr>\n",
       "    <tr>\n",
       "      <th>3</th>\n",
       "      <td>1</td>\n",
       "      <td>1</td>\n",
       "      <td>4</td>\n",
       "      <td>52.400002</td>\n",
       "      <td>não</td>\n",
       "      <td>2</td>\n",
       "    </tr>\n",
       "    <tr>\n",
       "      <th>4</th>\n",
       "      <td>1</td>\n",
       "      <td>2</td>\n",
       "      <td>1</td>\n",
       "      <td>74.900002</td>\n",
       "      <td>não</td>\n",
       "      <td>2</td>\n",
       "    </tr>\n",
       "    <tr>\n",
       "      <th>...</th>\n",
       "      <td>...</td>\n",
       "      <td>...</td>\n",
       "      <td>...</td>\n",
       "      <td>...</td>\n",
       "      <td>...</td>\n",
       "      <td>...</td>\n",
       "    </tr>\n",
       "    <tr>\n",
       "      <th>2435</th>\n",
       "      <td>15</td>\n",
       "      <td>609</td>\n",
       "      <td>4</td>\n",
       "      <td>100.000000</td>\n",
       "      <td>sim</td>\n",
       "      <td>9</td>\n",
       "    </tr>\n",
       "    <tr>\n",
       "      <th>2436</th>\n",
       "      <td>15</td>\n",
       "      <td>610</td>\n",
       "      <td>1</td>\n",
       "      <td>87.599998</td>\n",
       "      <td>sim</td>\n",
       "      <td>9</td>\n",
       "    </tr>\n",
       "    <tr>\n",
       "      <th>2437</th>\n",
       "      <td>15</td>\n",
       "      <td>610</td>\n",
       "      <td>2</td>\n",
       "      <td>92.599998</td>\n",
       "      <td>sim</td>\n",
       "      <td>9</td>\n",
       "    </tr>\n",
       "    <tr>\n",
       "      <th>2438</th>\n",
       "      <td>15</td>\n",
       "      <td>610</td>\n",
       "      <td>3</td>\n",
       "      <td>94.599998</td>\n",
       "      <td>sim</td>\n",
       "      <td>9</td>\n",
       "    </tr>\n",
       "    <tr>\n",
       "      <th>2439</th>\n",
       "      <td>15</td>\n",
       "      <td>610</td>\n",
       "      <td>4</td>\n",
       "      <td>100.000000</td>\n",
       "      <td>sim</td>\n",
       "      <td>9</td>\n",
       "    </tr>\n",
       "  </tbody>\n",
       "</table>\n",
       "<p>2440 rows × 6 columns</p>\n",
       "</div>"
      ],
      "text/plain": [
       "      escola estudante  mes  desempenho ativ  texp\n",
       "0          1         1    1   35.400002  não     2\n",
       "1          1         1    2   44.400002  não     2\n",
       "2          1         1    3   46.400002  não     2\n",
       "3          1         1    4   52.400002  não     2\n",
       "4          1         2    1   74.900002  não     2\n",
       "...      ...       ...  ...         ...  ...   ...\n",
       "2435      15       609    4  100.000000  sim     9\n",
       "2436      15       610    1   87.599998  sim     9\n",
       "2437      15       610    2   92.599998  sim     9\n",
       "2438      15       610    3   94.599998  sim     9\n",
       "2439      15       610    4  100.000000  sim     9\n",
       "\n",
       "[2440 rows x 6 columns]"
      ]
     },
     "execution_count": 57,
     "metadata": {},
     "output_type": "execute_result"
    }
   ],
   "source": [
    "df_tempo_estudante_escola = pd.read_csv(r'bases\\tempo_estudante_escola.csv')\n",
    "#df_tempo_estudante_escola['escola'] = df_tempo_estudante_escola['escola'].astype('str')\n",
    "df_tempo_estudante_escola['estudante'] = df_tempo_estudante_escola['estudante'].astype('str')\n",
    "#df_tempo_estudante_escola['mes'] = df_tempo_estudante_escola['mes'].astype('str')\n",
    "df_tempo_estudante_escola"
   ]
  },
  {
   "cell_type": "code",
   "execution_count": 58,
   "id": "6f43ef91",
   "metadata": {},
   "outputs": [
    {
     "name": "stdout",
     "output_type": "stream",
     "text": [
      "<class 'pandas.core.frame.DataFrame'>\n",
      "RangeIndex: 2440 entries, 0 to 2439\n",
      "Data columns (total 6 columns):\n",
      " #   Column      Non-Null Count  Dtype  \n",
      "---  ------      --------------  -----  \n",
      " 0   escola      2440 non-null   int64  \n",
      " 1   estudante   2440 non-null   object \n",
      " 2   mes         2440 non-null   int64  \n",
      " 3   desempenho  2440 non-null   float64\n",
      " 4   ativ        2440 non-null   object \n",
      " 5   texp        2440 non-null   int64  \n",
      "dtypes: float64(1), int64(3), object(2)\n",
      "memory usage: 114.5+ KB\n"
     ]
    }
   ],
   "source": [
    "df_tempo_estudante_escola.info()"
   ]
  },
  {
   "cell_type": "code",
   "execution_count": 59,
   "id": "9fc9e548",
   "metadata": {},
   "outputs": [
    {
     "data": {
      "text/html": [
       "<div>\n",
       "<style scoped>\n",
       "    .dataframe tbody tr th:only-of-type {\n",
       "        vertical-align: middle;\n",
       "    }\n",
       "\n",
       "    .dataframe tbody tr th {\n",
       "        vertical-align: top;\n",
       "    }\n",
       "\n",
       "    .dataframe thead th {\n",
       "        text-align: right;\n",
       "    }\n",
       "</style>\n",
       "<table border=\"1\" class=\"dataframe\">\n",
       "  <thead>\n",
       "    <tr style=\"text-align: right;\">\n",
       "      <th></th>\n",
       "      <th>escola</th>\n",
       "      <th>mes</th>\n",
       "      <th>desempenho</th>\n",
       "      <th>texp</th>\n",
       "    </tr>\n",
       "  </thead>\n",
       "  <tbody>\n",
       "    <tr>\n",
       "      <th>count</th>\n",
       "      <td>2440.000000</td>\n",
       "      <td>2440.000000</td>\n",
       "      <td>2440.000000</td>\n",
       "      <td>2440.000000</td>\n",
       "    </tr>\n",
       "    <tr>\n",
       "      <th>mean</th>\n",
       "      <td>8.485246</td>\n",
       "      <td>2.500000</td>\n",
       "      <td>68.341352</td>\n",
       "      <td>9.027869</td>\n",
       "    </tr>\n",
       "    <tr>\n",
       "      <th>std</th>\n",
       "      <td>4.386862</td>\n",
       "      <td>1.118263</td>\n",
       "      <td>22.981531</td>\n",
       "      <td>7.655618</td>\n",
       "    </tr>\n",
       "    <tr>\n",
       "      <th>min</th>\n",
       "      <td>1.000000</td>\n",
       "      <td>1.000000</td>\n",
       "      <td>10.500000</td>\n",
       "      <td>2.000000</td>\n",
       "    </tr>\n",
       "    <tr>\n",
       "      <th>25%</th>\n",
       "      <td>5.000000</td>\n",
       "      <td>1.750000</td>\n",
       "      <td>49.574999</td>\n",
       "      <td>2.000000</td>\n",
       "    </tr>\n",
       "    <tr>\n",
       "      <th>50%</th>\n",
       "      <td>9.000000</td>\n",
       "      <td>2.500000</td>\n",
       "      <td>70.300003</td>\n",
       "      <td>9.000000</td>\n",
       "    </tr>\n",
       "    <tr>\n",
       "      <th>75%</th>\n",
       "      <td>12.000000</td>\n",
       "      <td>3.250000</td>\n",
       "      <td>88.500000</td>\n",
       "      <td>18.000000</td>\n",
       "    </tr>\n",
       "    <tr>\n",
       "      <th>max</th>\n",
       "      <td>15.000000</td>\n",
       "      <td>4.000000</td>\n",
       "      <td>100.000000</td>\n",
       "      <td>20.000000</td>\n",
       "    </tr>\n",
       "  </tbody>\n",
       "</table>\n",
       "</div>"
      ],
      "text/plain": [
       "            escola          mes   desempenho         texp\n",
       "count  2440.000000  2440.000000  2440.000000  2440.000000\n",
       "mean      8.485246     2.500000    68.341352     9.027869\n",
       "std       4.386862     1.118263    22.981531     7.655618\n",
       "min       1.000000     1.000000    10.500000     2.000000\n",
       "25%       5.000000     1.750000    49.574999     2.000000\n",
       "50%       9.000000     2.500000    70.300003     9.000000\n",
       "75%      12.000000     3.250000    88.500000    18.000000\n",
       "max      15.000000     4.000000   100.000000    20.000000"
      ]
     },
     "execution_count": 59,
     "metadata": {},
     "output_type": "execute_result"
    }
   ],
   "source": [
    "# Descritivas\n",
    "df_tempo_estudante_escola.describe()"
   ]
  },
  {
   "cell_type": "code",
   "execution_count": 60,
   "id": "92bf7776",
   "metadata": {},
   "outputs": [
    {
     "data": {
      "text/plain": [
       "610"
      ]
     },
     "execution_count": 60,
     "metadata": {},
     "output_type": "execute_result"
    }
   ],
   "source": [
    "# Quantidade de estudantes\n",
    "df_tempo_estudante_escola.estudante.nunique()"
   ]
  },
  {
   "cell_type": "code",
   "execution_count": 61,
   "id": "90317c1b",
   "metadata": {},
   "outputs": [
    {
     "data": {
      "text/plain": [
       "1    610\n",
       "2    610\n",
       "3    610\n",
       "4    610\n",
       "Name: mes, dtype: int64"
      ]
     },
     "execution_count": 61,
     "metadata": {},
     "output_type": "execute_result"
    }
   ],
   "source": [
    "# Quantidade de alunos por mês\n",
    "df_tempo_estudante_escola.mes.value_counts()"
   ]
  },
  {
   "cell_type": "code",
   "execution_count": 62,
   "id": "27589bca",
   "metadata": {},
   "outputs": [
    {
     "data": {
      "text/plain": [
       "escola\n",
       "1     47\n",
       "2     25\n",
       "3     48\n",
       "4     20\n",
       "5     48\n",
       "6     30\n",
       "7     28\n",
       "8     35\n",
       "9     44\n",
       "10    33\n",
       "11    57\n",
       "12    62\n",
       "13    53\n",
       "14    27\n",
       "15    53\n",
       "Name: estudante, dtype: int64"
      ]
     },
     "execution_count": 62,
     "metadata": {},
     "output_type": "execute_result"
    }
   ],
   "source": [
    "df_tempo_estudante_escola.groupby('escola')['estudante'].nunique()"
   ]
  },
  {
   "cell_type": "markdown",
   "id": "f0c0e5e7",
   "metadata": {},
   "source": [
    "### Gráfico da Média Temporal dos Alunos ao Longo do Tempo"
   ]
  },
  {
   "cell_type": "code",
   "execution_count": null,
   "id": "c1f32468",
   "metadata": {},
   "outputs": [],
   "source": []
  },
  {
   "cell_type": "markdown",
   "id": "93c933ce",
   "metadata": {},
   "source": [
    "### Kernel Density Estimation (KDE) - Função Densidade de Probabilidade da Variável Dependente (Desempenho)"
   ]
  },
  {
   "cell_type": "code",
   "execution_count": 63,
   "id": "f93e849f",
   "metadata": {},
   "outputs": [
    {
     "data": {
      "text/plain": [
       "<Figure size 1500x1000 with 0 Axes>"
      ]
     },
     "metadata": {},
     "output_type": "display_data"
    },
    {
     "data": {
      "image/png": "[encoded data removed]",
      "text/plain": [
       "<Figure size 500x500 with 1 Axes>"
      ]
     },
     "metadata": {},
     "output_type": "display_data"
    }
   ],
   "source": [
    "from scipy.stats import norm\n",
    "\n",
    "plt.figure(figsize=(15,10))\n",
    "sns.displot(df_tempo_estudante_escola.desempenho, kde=True, bins=30)\n",
    "plt.xlabel('Desempenho', fontsize=16)\n",
    "plt.ylabel('density', fontsize=16)\n",
    "plt.show()"
   ]
  },
  {
   "cell_type": "code",
   "execution_count": null,
   "id": "bca568ff",
   "metadata": {},
   "outputs": [],
   "source": []
  },
  {
   "cell_type": "markdown",
   "id": "9822c3ab",
   "metadata": {},
   "source": [
    "# Estimação do Modelo"
   ]
  },
  {
   "cell_type": "markdown",
   "id": "5b08846c",
   "metadata": {},
   "source": [
    "# Step-up Strategy\n",
    "\n",
    "- Análise do Modelo Nulo;\n",
    "- Análise do Modelo com intercépto Aleatório;\n",
    "- Análise do Modelo com intercépto e Inclinação aleatória (inclui variável X - define inclinação);"
   ]
  },
  {
   "cell_type": "markdown",
   "id": "6ee48292",
   "metadata": {},
   "source": [
    "## Estimação do Modelo Nulo\n",
    "\n",
    "Avaliar o LogLike para verificar se existe significância estatística da variância do efeito aleatório de intercépto. <br>\n",
    "Caso não tenha, partimos para o modelo OLS\n",
    "\n",
    "**Testando se os termos aleatórios são estatisticamente diferentes de zero**\n",
    "\n",
    "se V0j for estatisticamente igual a 0, vale a aplicação do modelo OLS"
   ]
  },
  {
   "cell_type": "code",
   "execution_count": 64,
   "id": "2bc00175",
   "metadata": {},
   "outputs": [
    {
     "data": {
      "text/html": [
       "<table class=\"simpletable\">\n",
       "<tr>\n",
       "       <td>Model:</td>       <td>MixedLM</td> <td>Dependent Variable:</td> <td>desempenho</td>\n",
       "</tr>\n",
       "<tr>\n",
       "  <td>No. Observations:</td>  <td>2440</td>         <td>Method:</td>          <td>REML</td>   \n",
       "</tr>\n",
       "<tr>\n",
       "     <td>No. Groups:</td>      <td>15</td>          <td>Scale:</td>          <td>41.6494</td> \n",
       "</tr>\n",
       "<tr>\n",
       "  <td>Min. group size:</td>    <td>80</td>      <td>Log-Likelihood:</td>   <td>-9092.1387</td>\n",
       "</tr>\n",
       "<tr>\n",
       "  <td>Max. group size:</td>    <td>248</td>       <td>Converged:</td>          <td>Yes</td>   \n",
       "</tr>\n",
       "<tr>\n",
       "  <td>Mean group size:</td>   <td>162.7</td>           <td></td>                <td></td>     \n",
       "</tr>\n",
       "</table>\n",
       "<table class=\"simpletable\">\n",
       "<tr>\n",
       "        <td></td>         <th>Coef.</th>  <th>Std.Err.</th>    <th>z</th>   <th>P>|z|</th> <th>[0.025</th> <th>0.975]</th>\n",
       "</tr>\n",
       "<tr>\n",
       "  <th>Intercept</th>     <td>68.714</td>    <td>3.553</td>  <td>19.337</td> <td>0.000</td> <td>61.749</td> <td>75.679</td>\n",
       "</tr>\n",
       "<tr>\n",
       "  <th>Group Var</th>     <td>180.222</td>  <td>11.137</td>     <td></td>      <td></td>       <td></td>       <td></td>   \n",
       "</tr>\n",
       "<tr>\n",
       "  <th>estudante Var</th> <td>325.798</td>   <td>3.477</td>     <td></td>      <td></td>       <td></td>       <td></td>   \n",
       "</tr>\n",
       "</table>"
      ],
      "text/plain": [
       "<class 'statsmodels.iolib.summary2.Summary'>\n",
       "\"\"\"\n",
       "          Mixed Linear Model Regression Results\n",
       "=========================================================\n",
       "Model:             MixedLM Dependent Variable: desempenho\n",
       "No. Observations:  2440    Method:             REML      \n",
       "No. Groups:        15      Scale:              41.6494   \n",
       "Min. group size:   80      Log-Likelihood:     -9092.1387\n",
       "Max. group size:   248     Converged:          Yes       \n",
       "Mean group size:   162.7                                 \n",
       "---------------------------------------------------------\n",
       "               Coef.  Std.Err.   z    P>|z| [0.025 0.975]\n",
       "---------------------------------------------------------\n",
       "Intercept      68.714    3.553 19.337 0.000 61.749 75.679\n",
       "Group Var     180.222   11.137                           \n",
       "estudante Var 325.798    3.477                           \n",
       "=========================================================\n",
       "\n",
       "\"\"\""
      ]
     },
     "execution_count": 64,
     "metadata": {},
     "output_type": "execute_result"
    }
   ],
   "source": [
    "#https://www.statsmodels.org/stable/mixed_linear.html\n",
    "import statsmodels.api as sm\n",
    "\n",
    "vc = {'estudante': '0 + estudante'}\n",
    "\n",
    "modelo_nulo_hlm3 = sm.MixedLM.from_formula(\"desempenho ~ 1\", \n",
    "                                           df_tempo_estudante_escola, \n",
    "                                           groups=df_tempo_estudante_escola['escola'],\n",
    "                                           re_formula='~1', \n",
    "                                           vc_formula=vc).fit()\n",
    "modelo_nulo_hlm3.summary()"
   ]
  },
  {
   "cell_type": "markdown",
   "id": "8b038478",
   "metadata": {},
   "source": [
    "Modelo:\n",
    "\n",
    "> DESEMPENHOij = 68,71 + v0jk + t00k + ERROtjk\n",
    "\n",
    "v0jk: efeito aleatório nível estudante <br>\n",
    "t00k: efeito aleatório nível escola\n",
    "\n",
    "Verificando efeito aleatório de intercepto:\n",
    "<br>\n",
    "\n",
    "<center><b>V0j (estudante var) = 325,80 p-value = 0,00</b></center>\n",
    "<center><b>t00k (Group Var ) = 180,222 p-value: 0,012</b> </center>\n",
    "\n",
    "> H0: É estatisticamente significante igual a 0 <br>\n",
    "> H1: É estatisticamente diferente de 0\n",
    "\n",
    "p-value < 0,05 rejeita-se H0\n",
    "\n",
    "Então existem diferenças no desempenho de alunos provenientes de escolas diferentes."
   ]
  },
  {
   "cell_type": "code",
   "execution_count": 65,
   "id": "161f586a",
   "metadata": {},
   "outputs": [
    {
     "data": {
      "text/plain": [
       "Intercept        0.00000\n",
       "Group Var        0.01216\n",
       "estudante Var    0.00000\n",
       "dtype: float64"
      ]
     },
     "execution_count": 65,
     "metadata": {},
     "output_type": "execute_result"
    }
   ],
   "source": [
    "modelo_nulo_hlm3.pvalues.round(5)"
   ]
  },
  {
   "cell_type": "markdown",
   "id": "a25370e6",
   "metadata": {},
   "source": [
    "#### ICC (Intraclass Correlation)\n",
    "\n",
    "Qual a importância relativa do efeito escola e estudante sobre o desempenho?"
   ]
  },
  {
   "cell_type": "code",
   "execution_count": 66,
   "id": "ea2cd0d3",
   "metadata": {},
   "outputs": [
    {
     "data": {
      "text/plain": [
       "0.32907079194060146"
      ]
     },
     "execution_count": 66,
     "metadata": {},
     "output_type": "execute_result"
    }
   ],
   "source": [
    "icc_escola = (180.222) / (180.222 + 325.798 + modelo_nulo_hlm3.scale)\n",
    "icc_escola\n",
    "# 32,9% da variação do desempenho é devido ao efeito escola"
   ]
  },
  {
   "cell_type": "code",
   "execution_count": 67,
   "id": "318836b5",
   "metadata": {},
   "outputs": [
    {
     "data": {
      "text/plain": [
       "0.5948807907617498"
      ]
     },
     "execution_count": 67,
     "metadata": {},
     "output_type": "execute_result"
    }
   ],
   "source": [
    "icc_estudante = (325.798) / (180.222 + 325.798 + modelo_nulo_hlm3.scale)\n",
    "icc_estudante\n",
    "# 59,5% da variação do desempenho é devido ao efeito estudante"
   ]
  },
  {
   "cell_type": "code",
   "execution_count": 68,
   "id": "8dd991d0",
   "metadata": {},
   "outputs": [
    {
     "data": {
      "text/plain": [
       "0.07604841729764866"
      ]
     },
     "execution_count": 68,
     "metadata": {},
     "output_type": "execute_result"
    }
   ],
   "source": [
    "icc_tempo = 1- icc_escola - icc_estudante\n",
    "icc_tempo\n",
    "# Apenas 7,6% da variação do desempenho é devido ao efeito tempo"
   ]
  },
  {
   "cell_type": "markdown",
   "id": "d286ddfa",
   "metadata": {},
   "source": [
    "### Comparando HLM3 com OLS Nulo"
   ]
  },
  {
   "cell_type": "code",
   "execution_count": 69,
   "id": "dd52bbcb",
   "metadata": {},
   "outputs": [
    {
     "data": {
      "text/html": [
       "<table class=\"simpletable\">\n",
       "<caption>OLS Regression Results</caption>\n",
       "<tr>\n",
       "  <th>Dep. Variable:</th>       <td>desempenho</td>    <th>  R-squared:         </th> <td>   0.000</td> \n",
       "</tr>\n",
       "<tr>\n",
       "  <th>Model:</th>                   <td>OLS</td>       <th>  Adj. R-squared:    </th> <td>   0.000</td> \n",
       "</tr>\n",
       "<tr>\n",
       "  <th>Method:</th>             <td>Least Squares</td>  <th>  F-statistic:       </th> <td>     nan</td> \n",
       "</tr>\n",
       "<tr>\n",
       "  <th>Date:</th>             <td>Wed, 12 Apr 2023</td> <th>  Prob (F-statistic):</th>  <td>   nan</td>  \n",
       "</tr>\n",
       "<tr>\n",
       "  <th>Time:</th>                 <td>21:15:42</td>     <th>  Log-Likelihood:    </th> <td> -11110.</td> \n",
       "</tr>\n",
       "<tr>\n",
       "  <th>No. Observations:</th>      <td>  2440</td>      <th>  AIC:               </th> <td>2.222e+04</td>\n",
       "</tr>\n",
       "<tr>\n",
       "  <th>Df Residuals:</th>          <td>  2439</td>      <th>  BIC:               </th> <td>2.223e+04</td>\n",
       "</tr>\n",
       "<tr>\n",
       "  <th>Df Model:</th>              <td>     0</td>      <th>                     </th>     <td> </td>    \n",
       "</tr>\n",
       "<tr>\n",
       "  <th>Covariance Type:</th>      <td>nonrobust</td>    <th>                     </th>     <td> </td>    \n",
       "</tr>\n",
       "</table>\n",
       "<table class=\"simpletable\">\n",
       "<tr>\n",
       "      <td></td>         <th>coef</th>     <th>std err</th>      <th>t</th>      <th>P>|t|</th>  <th>[0.025</th>    <th>0.975]</th>  \n",
       "</tr>\n",
       "<tr>\n",
       "  <th>Intercept</th> <td>   68.3414</td> <td>    0.465</td> <td>  146.892</td> <td> 0.000</td> <td>   67.429</td> <td>   69.254</td>\n",
       "</tr>\n",
       "</table>\n",
       "<table class=\"simpletable\">\n",
       "<tr>\n",
       "  <th>Omnibus:</th>       <td>742.376</td> <th>  Durbin-Watson:     </th> <td>   0.440</td>\n",
       "</tr>\n",
       "<tr>\n",
       "  <th>Prob(Omnibus):</th> <td> 0.000</td>  <th>  Jarque-Bera (JB):  </th> <td> 133.934</td>\n",
       "</tr>\n",
       "<tr>\n",
       "  <th>Skew:</th>          <td>-0.230</td>  <th>  Prob(JB):          </th> <td>8.25e-30</td>\n",
       "</tr>\n",
       "<tr>\n",
       "  <th>Kurtosis:</th>      <td> 1.949</td>  <th>  Cond. No.          </th> <td>    1.00</td>\n",
       "</tr>\n",
       "</table><br/><br/>Notes:<br/>[1] Standard Errors assume that the covariance matrix of the errors is correctly specified."
      ],
      "text/plain": [
       "<class 'statsmodels.iolib.summary.Summary'>\n",
       "\"\"\"\n",
       "                            OLS Regression Results                            \n",
       "==============================================================================\n",
       "Dep. Variable:             desempenho   R-squared:                       0.000\n",
       "Model:                            OLS   Adj. R-squared:                  0.000\n",
       "Method:                 Least Squares   F-statistic:                       nan\n",
       "Date:                Wed, 12 Apr 2023   Prob (F-statistic):                nan\n",
       "Time:                        21:15:42   Log-Likelihood:                -11110.\n",
       "No. Observations:                2440   AIC:                         2.222e+04\n",
       "Df Residuals:                    2439   BIC:                         2.223e+04\n",
       "Df Model:                           0                                         \n",
       "Covariance Type:            nonrobust                                         \n",
       "==============================================================================\n",
       "                 coef    std err          t      P>|t|      [0.025      0.975]\n",
       "------------------------------------------------------------------------------\n",
       "Intercept     68.3414      0.465    146.892      0.000      67.429      69.254\n",
       "==============================================================================\n",
       "Omnibus:                      742.376   Durbin-Watson:                   0.440\n",
       "Prob(Omnibus):                  0.000   Jarque-Bera (JB):              133.934\n",
       "Skew:                          -0.230   Prob(JB):                     8.25e-30\n",
       "Kurtosis:                       1.949   Cond. No.                         1.00\n",
       "==============================================================================\n",
       "\n",
       "Notes:\n",
       "[1] Standard Errors assume that the covariance matrix of the errors is correctly specified.\n",
       "\"\"\""
      ]
     },
     "execution_count": 69,
     "metadata": {},
     "output_type": "execute_result"
    }
   ],
   "source": [
    "modelo_ols_nulo = sm.OLS.from_formula(\"desempenho ~ 1\", df_tempo_estudante_escola).fit()\n",
    "modelo_ols_nulo.summary()"
   ]
  },
  {
   "cell_type": "markdown",
   "id": "1644b7f1",
   "metadata": {},
   "source": [
    "### Comparativo do Ganho de Loglike Entre Modelo Nulo OLS e Modelo Nulo Multinível"
   ]
  },
  {
   "cell_type": "code",
   "execution_count": 70,
   "id": "0f295979",
   "metadata": {},
   "outputs": [],
   "source": [
    "#Função para Verificar estatisticamente ganho no LogLike entre os Modelos\n",
    "from scipy.stats import chi2\n",
    "\n",
    "def llr_test (model_ref, model_test):\n",
    "    \n",
    "    if model_ref == model_test:\n",
    "\n",
    "        stats_chi2 = -2*(model_ref.llnull - model_test.llf)\n",
    "        \n",
    "        return print(f\"\"\"LogLike Modelo Nulo: {model_ref.llnull:.2f}\n",
    "LogLike Modelo: {model_test.llf:.2f}\n",
    "Estatistica Chi2: {stats_chi2:.2f}\n",
    "P-value Chi2: {1-chi2.cdf(stats_chi2, df=model_test.df_modelwc)}\"\"\")\n",
    "            \n",
    "    else:\n",
    "        \n",
    "        stats_chi2 = -2*(model_ref.llf - model_test.llf)\n",
    "        \n",
    "        return print(f\"\"\"LogLike Modelo Ref: {model_ref.llf:.2f}\n",
    "LogLike Modelo: {model_test.llf:.2f} \n",
    "Estatistica Chi2: {stats_chi2:.2f}\n",
    "P-value Chi2: {1-chi2.cdf(stats_chi2, df=model_test.df_modelwc)}\"\"\")"
   ]
  },
  {
   "cell_type": "code",
   "execution_count": 71,
   "id": "624d7f1e",
   "metadata": {},
   "outputs": [
    {
     "name": "stdout",
     "output_type": "stream",
     "text": [
      "LogLike Modelo Ref: -11110.36\n",
      "LogLike Modelo: -9092.14 \n",
      "Estatistica Chi2: 4036.43\n",
      "P-value Chi2: 0.0\n"
     ]
    }
   ],
   "source": [
    "llr_test(modelo_ols_nulo, modelo_nulo_hlm3)"
   ]
  },
  {
   "cell_type": "code",
   "execution_count": 72,
   "id": "b11f228a",
   "metadata": {},
   "outputs": [
    {
     "data": {
      "text/plain": [
       "Text(0.5, 1.0, 'Comparação do LL')"
      ]
     },
     "execution_count": 72,
     "metadata": {},
     "output_type": "execute_result"
    },
    {
     "data": {
      "image/png": "[encoded data removed]",
      "text/plain": [
       "<Figure size 800x300 with 1 Axes>"
      ]
     },
     "metadata": {},
     "output_type": "display_data"
    }
   ],
   "source": [
    "#Definição do dataframe com os modelos e respectivos LL\n",
    "df_llf = pd.DataFrame({'modelo':['OLS Nulo','HLM3 Nulo'],\n",
    "                      'loglik':[modelo_ols_nulo.llf,\n",
    "                                modelo_nulo_hlm3.llf]})\n",
    "df_llf\n",
    "\n",
    "#Plotagem propriamente dita\n",
    "fig, ax = plt.subplots(figsize=(8,3))\n",
    "\n",
    "c = [\"#440154FF\", \"#453781FF\", \"#22A884FF\", \"orange\", \"green\"]\n",
    "\n",
    "ax1 = ax.barh(df_llf.modelo, df_llf.loglik, color = c)\n",
    "ax.bar_label(ax1, label_type='center', color='white', fontsize=12)\n",
    "ax.set_ylabel(\"Modelo\", fontsize=12)\n",
    "ax.set_xlabel(\"Log-Likehood\", fontsize=12)\n",
    "plt.title('Comparação do LL')"
   ]
  },
  {
   "cell_type": "markdown",
   "id": "216cdd4b",
   "metadata": {},
   "source": [
    "### Modelo HLM3 com Tendência Linear e Interceptos e Inclinações Aleatórias"
   ]
  },
  {
   "cell_type": "code",
   "execution_count": 77,
   "id": "1d8c26b7",
   "metadata": {},
   "outputs": [
    {
     "data": {
      "text/html": [
       "<table class=\"simpletable\">\n",
       "<tr>\n",
       "       <td>Model:</td>       <td>MixedLM</td> <td>Dependent Variable:</td> <td>desempenho</td>\n",
       "</tr>\n",
       "<tr>\n",
       "  <td>No. Observations:</td>  <td>2440</td>         <td>Method:</td>          <td>REML</td>   \n",
       "</tr>\n",
       "<tr>\n",
       "     <td>No. Groups:</td>      <td>15</td>          <td>Scale:</td>          <td>9.2424</td>  \n",
       "</tr>\n",
       "<tr>\n",
       "  <td>Min. group size:</td>    <td>80</td>      <td>Log-Likelihood:</td>   <td>-7735.8750</td>\n",
       "</tr>\n",
       "<tr>\n",
       "  <td>Max. group size:</td>    <td>248</td>       <td>Converged:</td>          <td>Yes</td>   \n",
       "</tr>\n",
       "<tr>\n",
       "  <td>Mean group size:</td>   <td>162.7</td>           <td></td>                <td></td>     \n",
       "</tr>\n",
       "</table>\n",
       "<table class=\"simpletable\">\n",
       "<tr>\n",
       "        <td></td>         <th>Coef.</th>  <th>Std.Err.</th>    <th>z</th>   <th>P>|z|</th> <th>[0.025</th> <th>0.975]</th>\n",
       "</tr>\n",
       "<tr>\n",
       "  <th>Intercept</th>     <td>57.860</td>    <td>3.937</td>  <td>14.695</td> <td>0.000</td> <td>50.142</td> <td>65.577</td>\n",
       "</tr>\n",
       "<tr>\n",
       "  <th>mes</th>            <td>4.344</td>    <td>0.210</td>  <td>20.697</td> <td>0.000</td>  <td>3.932</td>  <td>4.755</td>\n",
       "</tr>\n",
       "<tr>\n",
       "  <th>Group Var</th>     <td>223.052</td>  <td>29.021</td>     <td></td>      <td></td>       <td></td>       <td></td>   \n",
       "</tr>\n",
       "<tr>\n",
       "  <th>estudante Var</th> <td>333.899</td>   <td>7.389</td>     <td></td>      <td></td>       <td></td>       <td></td>   \n",
       "</tr>\n",
       "<tr>\n",
       "  <th>mes Var</th>        <td>0.610</td>    <td>0.082</td>     <td></td>      <td></td>       <td></td>       <td></td>   \n",
       "</tr>\n",
       "</table>"
      ],
      "text/plain": [
       "<class 'statsmodels.iolib.summary2.Summary'>\n",
       "\"\"\"\n",
       "          Mixed Linear Model Regression Results\n",
       "=========================================================\n",
       "Model:             MixedLM Dependent Variable: desempenho\n",
       "No. Observations:  2440    Method:             REML      \n",
       "No. Groups:        15      Scale:              9.2424    \n",
       "Min. group size:   80      Log-Likelihood:     -7735.8750\n",
       "Max. group size:   248     Converged:          Yes       \n",
       "Mean group size:   162.7                                 \n",
       "---------------------------------------------------------\n",
       "               Coef.  Std.Err.   z    P>|z| [0.025 0.975]\n",
       "---------------------------------------------------------\n",
       "Intercept      57.860    3.937 14.695 0.000 50.142 65.577\n",
       "mes             4.344    0.210 20.697 0.000  3.932  4.755\n",
       "Group Var     223.052   29.021                           \n",
       "estudante Var 333.899    7.389                           \n",
       "mes Var         0.610    0.082                           \n",
       "=========================================================\n",
       "\n",
       "\"\"\""
      ]
     },
     "execution_count": 77,
     "metadata": {},
     "output_type": "execute_result"
    }
   ],
   "source": [
    "#Componentes aleatórios de inclinação\n",
    "vc = {'estudante': '0 + estudante','mes': '0 + mes'}\n",
    "\n",
    "modelo_intercept_inclin_hlm3 = sm.MixedLM.from_formula(\"desempenho ~ mes\", \n",
    "                                           df_tempo_estudante_escola, \n",
    "                                           groups=df_tempo_estudante_escola['escola'], \n",
    "                                            re_formula='1',\n",
    "                                            vc_formula=vc).fit()\n",
    "modelo_intercept_inclin_hlm3.summary()"
   ]
  },
  {
   "cell_type": "code",
   "execution_count": null,
   "id": "f88462db",
   "metadata": {},
   "outputs": [],
   "source": []
  },
  {
   "cell_type": "code",
   "execution_count": null,
   "id": "f3a29274",
   "metadata": {},
   "outputs": [],
   "source": [
    "# variável dependente\n",
    "y = df_tempo_estudante_escola.desempenho\n",
    "\n",
    "# variável explicativa fixa alunos\n",
    "x = sm.add_constant(df_tempo_estudante_escola.mes)\n",
    "\n",
    "# componente de efeito aleatório de intercepto e inclinação\n",
    "aleat_incl = sm.add_constant(df_tempo_estudante_escola[['estudante', 'mes']])\n",
    "\n",
    "#\n",
    "grupo = df_tempo_estudante_escola.escola\n",
    "\n",
    "\n",
    "modelo_intercept_inclin_hlm2 = sm.MixedLM(endog = y, \n",
    "                                           exog= x, \n",
    "                                           exog_re = aleat_incl,\n",
    "                                          exog_vc= aleat_incl,\n",
    "                                           groups=grupo).fit()\n",
    "modelo_intercept_inclin_hlm2.summary()"
   ]
  },
  {
   "cell_type": "code",
   "execution_count": 74,
   "id": "b796580c",
   "metadata": {},
   "outputs": [
    {
     "data": {
      "text/plain": [
       "Text(0.5, 1.0, 'Comparação do LL')"
      ]
     },
     "execution_count": 74,
     "metadata": {},
     "output_type": "execute_result"
    },
    {
     "data": {
      "image/png": "[encoded data removed]",
      "text/plain": [
       "<Figure size 800x300 with 1 Axes>"
      ]
     },
     "metadata": {},
     "output_type": "display_data"
    }
   ],
   "source": [
    "#Definição do dataframe com os modelos e respectivos LL\n",
    "df_llf = pd.DataFrame({'modelo':['OLS Nulo','HLM3 Nulo', 'HLM3 c\\ Inter. e Incl. Aleatoria'],\n",
    "                      'loglik':[modelo_ols_nulo.llf,\n",
    "                                modelo_nulo_hlm3.llf, \n",
    "                                modelo_intercept_inclin_hlm3.llf]})\n",
    "df_llf\n",
    "\n",
    "#Plotagem propriamente dita\n",
    "fig, ax = plt.subplots(figsize=(8,3))\n",
    "\n",
    "c = [\"#440154FF\", \"#453781FF\", \"#22A884FF\", \"orange\", \"green\"]\n",
    "\n",
    "ax1 = ax.barh(df_llf.modelo, df_llf.loglik, color = c)\n",
    "ax.bar_label(ax1, label_type='center', color='white', fontsize=12)\n",
    "ax.set_ylabel(\"Modelo\", fontsize=12)\n",
    "ax.set_xlabel(\"Log-Likehood\", fontsize=12)\n",
    "plt.title('Comparação do LL')"
   ]
  },
  {
   "cell_type": "markdown",
   "id": "749c5cea",
   "metadata": {},
   "source": [
    "# Modelo Final HLM3"
   ]
  },
  {
   "cell_type": "code",
   "execution_count": 93,
   "id": "bb20bf90",
   "metadata": {},
   "outputs": [
    {
     "data": {
      "text/html": [
       "<table class=\"simpletable\">\n",
       "<tr>\n",
       "       <td>Model:</td>       <td>MixedLM</td> <td>Dependent Variable:</td> <td>desempenho</td>\n",
       "</tr>\n",
       "<tr>\n",
       "  <td>No. Observations:</td>  <td>2440</td>         <td>Method:</td>          <td>REML</td>   \n",
       "</tr>\n",
       "<tr>\n",
       "     <td>No. Groups:</td>      <td>15</td>          <td>Scale:</td>          <td>9.1302</td>  \n",
       "</tr>\n",
       "<tr>\n",
       "  <td>Min. group size:</td>    <td>80</td>      <td>Log-Likelihood:</td>   <td>-7686.9488</td>\n",
       "</tr>\n",
       "<tr>\n",
       "  <td>Max. group size:</td>    <td>248</td>       <td>Converged:</td>          <td>Yes</td>   \n",
       "</tr>\n",
       "<tr>\n",
       "  <td>Mean group size:</td>   <td>162.7</td>           <td></td>                <td></td>     \n",
       "</tr>\n",
       "</table>\n",
       "<table class=\"simpletable\">\n",
       "<tr>\n",
       "         <td></td>          <th>Coef.</th>  <th>Std.Err.</th>    <th>z</th>   <th>P>|z|</th> <th>[0.025</th> <th>0.975]</th>\n",
       "</tr>\n",
       "<tr>\n",
       "  <th>Intercept</th>       <td>40.034</td>    <td>3.826</td>  <td>10.464</td> <td>0.000</td> <td>32.535</td> <td>47.533</td>\n",
       "</tr>\n",
       "<tr>\n",
       "  <th>ativ[T.sim]</th>     <td>14.705</td>    <td>1.695</td>   <td>8.673</td> <td>0.000</td> <td>11.382</td> <td>18.027</td>\n",
       "</tr>\n",
       "<tr>\n",
       "  <th>mes</th>              <td>5.178</td>    <td>0.233</td>  <td>22.255</td> <td>0.000</td>  <td>4.722</td>  <td>5.634</td>\n",
       "</tr>\n",
       "<tr>\n",
       "  <th>ativ[T.sim]:mes</th> <td>-0.637</td>    <td>0.128</td>  <td>-4.981</td> <td>0.000</td> <td>-0.888</td> <td>-0.386</td>\n",
       "</tr>\n",
       "<tr>\n",
       "  <th>texp</th>             <td>1.178</td>    <td>0.343</td>   <td>3.435</td> <td>0.001</td>  <td>0.506</td>  <td>1.850</td>\n",
       "</tr>\n",
       "<tr>\n",
       "  <th>texp:mes</th>        <td>-0.059</td>    <td>0.021</td>  <td>-2.833</td> <td>0.005</td> <td>-0.099</td> <td>-0.018</td>\n",
       "</tr>\n",
       "<tr>\n",
       "  <th>Group Var</th>       <td>88.118</td>   <td>12.611</td>     <td></td>      <td></td>       <td></td>       <td></td>   \n",
       "</tr>\n",
       "<tr>\n",
       "  <th>estudante Var</th>   <td>303.614</td>   <td>6.767</td>     <td></td>      <td></td>       <td></td>       <td></td>   \n",
       "</tr>\n",
       "<tr>\n",
       "  <th>mes Var</th>          <td>0.301</td>    <td>0.045</td>     <td></td>      <td></td>       <td></td>       <td></td>   \n",
       "</tr>\n",
       "</table>"
      ],
      "text/plain": [
       "<class 'statsmodels.iolib.summary2.Summary'>\n",
       "\"\"\"\n",
       "           Mixed Linear Model Regression Results\n",
       "===========================================================\n",
       "Model:             MixedLM  Dependent Variable:  desempenho\n",
       "No. Observations:  2440     Method:              REML      \n",
       "No. Groups:        15       Scale:               9.1302    \n",
       "Min. group size:   80       Log-Likelihood:      -7686.9488\n",
       "Max. group size:   248      Converged:           Yes       \n",
       "Mean group size:   162.7                                   \n",
       "-----------------------------------------------------------\n",
       "                 Coef.  Std.Err.   z    P>|z| [0.025 0.975]\n",
       "-----------------------------------------------------------\n",
       "Intercept        40.034    3.826 10.464 0.000 32.535 47.533\n",
       "ativ[T.sim]      14.705    1.695  8.673 0.000 11.382 18.027\n",
       "mes               5.178    0.233 22.255 0.000  4.722  5.634\n",
       "ativ[T.sim]:mes  -0.637    0.128 -4.981 0.000 -0.888 -0.386\n",
       "texp              1.178    0.343  3.435 0.001  0.506  1.850\n",
       "texp:mes         -0.059    0.021 -2.833 0.005 -0.099 -0.018\n",
       "Group Var        88.118   12.611                           \n",
       "estudante Var   303.614    6.767                           \n",
       "mes Var           0.301    0.045                           \n",
       "===========================================================\n",
       "\n",
       "\"\"\""
      ]
     },
     "execution_count": 93,
     "metadata": {},
     "output_type": "execute_result"
    }
   ],
   "source": [
    "#Componentes aleatórios de inclinação\n",
    "vc = {'mes': '0 + mes', 'estudante': '0 + estudante'}\n",
    "\n",
    "modelo_completo_hlm3 = sm.MixedLM.from_formula(\"desempenho ~ mes + ativ + texp + ativ:mes + texp:mes\", \n",
    "                                           df_tempo_estudante_escola, \n",
    "                                           groups=df_tempo_estudante_escola['escola'], \n",
    "                                            re_formula='1',\n",
    "                                            vc_formula=vc).fit()\n",
    "modelo_completo_hlm3.summary()"
   ]
  },
  {
   "cell_type": "code",
   "execution_count": 82,
   "id": "247fac09",
   "metadata": {},
   "outputs": [
    {
     "name": "stdout",
     "output_type": "stream",
     "text": [
      "LogLike Modelo Ref: -7735.87\n",
      "LogLike Modelo: -7686.95 \n",
      "Estatistica Chi2: 97.85\n",
      "P-value Chi2: 0.0\n"
     ]
    }
   ],
   "source": [
    "llr_test(modelo_intercept_inclin_hlm3, modelo_completo_hlm3)"
   ]
  },
  {
   "cell_type": "code",
   "execution_count": 83,
   "id": "7ddf1f79",
   "metadata": {},
   "outputs": [
    {
     "data": {
      "text/plain": [
       "Text(0.5, 1.0, 'Comparação do LL')"
      ]
     },
     "execution_count": 83,
     "metadata": {},
     "output_type": "execute_result"
    },
    {
     "data": {
      "image/png": "[encoded data removed]",
      "text/plain": [
       "<Figure size 800x300 with 1 Axes>"
      ]
     },
     "metadata": {},
     "output_type": "display_data"
    }
   ],
   "source": [
    "#Definição do dataframe com os modelos e respectivos LL\n",
    "df_llf = pd.DataFrame({'modelo':['OLS Nulo','HLM3 Nulo', \n",
    "                                 'HLM3 c\\ Inter. e Incl. Aleatoria', \n",
    "                                 'HLM3 Completo'],\n",
    "                      'loglik':[modelo_ols_nulo.llf,\n",
    "                                modelo_nulo_hlm3.llf, \n",
    "                                modelo_intercept_inclin_hlm3.llf, \n",
    "                                modelo_completo_hlm3.llf]})\n",
    "df_llf\n",
    "\n",
    "#Plotagem propriamente dita\n",
    "fig, ax = plt.subplots(figsize=(8,3))\n",
    "\n",
    "c = [\"#440154FF\", \"#453781FF\", \"#22A884FF\", \"orange\", \"green\"]\n",
    "\n",
    "ax1 = ax.barh(df_llf.modelo, df_llf.loglik, color = c)\n",
    "ax.bar_label(ax1, label_type='center', color='white', fontsize=12)\n",
    "ax.set_ylabel(\"Modelo\", fontsize=12)\n",
    "ax.set_xlabel(\"Log-Likehood\", fontsize=12)\n",
    "plt.title('Comparação do LL')"
   ]
  },
  {
   "cell_type": "code",
   "execution_count": 97,
   "id": "d89a07f1",
   "metadata": {},
   "outputs": [
    {
     "data": {
      "text/html": [
       "<div>\n",
       "<style scoped>\n",
       "    .dataframe tbody tr th:only-of-type {\n",
       "        vertical-align: middle;\n",
       "    }\n",
       "\n",
       "    .dataframe tbody tr th {\n",
       "        vertical-align: top;\n",
       "    }\n",
       "\n",
       "    .dataframe thead th {\n",
       "        text-align: right;\n",
       "    }\n",
       "</style>\n",
       "<table border=\"1\" class=\"dataframe\">\n",
       "  <thead>\n",
       "    <tr style=\"text-align: right;\">\n",
       "      <th></th>\n",
       "      <th>1</th>\n",
       "      <th>2</th>\n",
       "      <th>3</th>\n",
       "      <th>4</th>\n",
       "      <th>5</th>\n",
       "      <th>6</th>\n",
       "      <th>7</th>\n",
       "      <th>8</th>\n",
       "      <th>9</th>\n",
       "      <th>10</th>\n",
       "      <th>11</th>\n",
       "      <th>12</th>\n",
       "      <th>13</th>\n",
       "      <th>14</th>\n",
       "      <th>15</th>\n",
       "    </tr>\n",
       "  </thead>\n",
       "  <tbody>\n",
       "    <tr>\n",
       "      <th>Group</th>\n",
       "      <td>-2.197466</td>\n",
       "      <td>6.849556</td>\n",
       "      <td>-8.096587</td>\n",
       "      <td>4.982848</td>\n",
       "      <td>0.514535</td>\n",
       "      <td>0.266652</td>\n",
       "      <td>-2.699861</td>\n",
       "      <td>9.652224</td>\n",
       "      <td>7.484015</td>\n",
       "      <td>16.098956</td>\n",
       "      <td>-14.840798</td>\n",
       "      <td>-8.029107</td>\n",
       "      <td>-7.894982</td>\n",
       "      <td>-9.042282</td>\n",
       "      <td>6.952297</td>\n",
       "    </tr>\n",
       "    <tr>\n",
       "      <th>estudante[estudante[100]]</th>\n",
       "      <td>NaN</td>\n",
       "      <td>NaN</td>\n",
       "      <td>4.100892</td>\n",
       "      <td>NaN</td>\n",
       "      <td>NaN</td>\n",
       "      <td>NaN</td>\n",
       "      <td>NaN</td>\n",
       "      <td>NaN</td>\n",
       "      <td>NaN</td>\n",
       "      <td>NaN</td>\n",
       "      <td>NaN</td>\n",
       "      <td>NaN</td>\n",
       "      <td>NaN</td>\n",
       "      <td>NaN</td>\n",
       "      <td>NaN</td>\n",
       "    </tr>\n",
       "    <tr>\n",
       "      <th>estudante[estudante[101]]</th>\n",
       "      <td>NaN</td>\n",
       "      <td>NaN</td>\n",
       "      <td>4.460139</td>\n",
       "      <td>NaN</td>\n",
       "      <td>NaN</td>\n",
       "      <td>NaN</td>\n",
       "      <td>NaN</td>\n",
       "      <td>NaN</td>\n",
       "      <td>NaN</td>\n",
       "      <td>NaN</td>\n",
       "      <td>NaN</td>\n",
       "      <td>NaN</td>\n",
       "      <td>NaN</td>\n",
       "      <td>NaN</td>\n",
       "      <td>NaN</td>\n",
       "    </tr>\n",
       "    <tr>\n",
       "      <th>estudante[estudante[102]]</th>\n",
       "      <td>NaN</td>\n",
       "      <td>NaN</td>\n",
       "      <td>38.702701</td>\n",
       "      <td>NaN</td>\n",
       "      <td>NaN</td>\n",
       "      <td>NaN</td>\n",
       "      <td>NaN</td>\n",
       "      <td>NaN</td>\n",
       "      <td>NaN</td>\n",
       "      <td>NaN</td>\n",
       "      <td>NaN</td>\n",
       "      <td>NaN</td>\n",
       "      <td>NaN</td>\n",
       "      <td>NaN</td>\n",
       "      <td>NaN</td>\n",
       "    </tr>\n",
       "    <tr>\n",
       "      <th>estudante[estudante[103]]</th>\n",
       "      <td>NaN</td>\n",
       "      <td>NaN</td>\n",
       "      <td>18.454927</td>\n",
       "      <td>NaN</td>\n",
       "      <td>NaN</td>\n",
       "      <td>NaN</td>\n",
       "      <td>NaN</td>\n",
       "      <td>NaN</td>\n",
       "      <td>NaN</td>\n",
       "      <td>NaN</td>\n",
       "      <td>NaN</td>\n",
       "      <td>NaN</td>\n",
       "      <td>NaN</td>\n",
       "      <td>NaN</td>\n",
       "      <td>NaN</td>\n",
       "    </tr>\n",
       "    <tr>\n",
       "      <th>...</th>\n",
       "      <td>...</td>\n",
       "      <td>...</td>\n",
       "      <td>...</td>\n",
       "      <td>...</td>\n",
       "      <td>...</td>\n",
       "      <td>...</td>\n",
       "      <td>...</td>\n",
       "      <td>...</td>\n",
       "      <td>...</td>\n",
       "      <td>...</td>\n",
       "      <td>...</td>\n",
       "      <td>...</td>\n",
       "      <td>...</td>\n",
       "      <td>...</td>\n",
       "      <td>...</td>\n",
       "    </tr>\n",
       "    <tr>\n",
       "      <th>estudante[estudante[97]]</th>\n",
       "      <td>NaN</td>\n",
       "      <td>NaN</td>\n",
       "      <td>-4.075691</td>\n",
       "      <td>NaN</td>\n",
       "      <td>NaN</td>\n",
       "      <td>NaN</td>\n",
       "      <td>NaN</td>\n",
       "      <td>NaN</td>\n",
       "      <td>NaN</td>\n",
       "      <td>NaN</td>\n",
       "      <td>NaN</td>\n",
       "      <td>NaN</td>\n",
       "      <td>NaN</td>\n",
       "      <td>NaN</td>\n",
       "      <td>NaN</td>\n",
       "    </tr>\n",
       "    <tr>\n",
       "      <th>estudante[estudante[98]]</th>\n",
       "      <td>NaN</td>\n",
       "      <td>NaN</td>\n",
       "      <td>-9.981291</td>\n",
       "      <td>NaN</td>\n",
       "      <td>NaN</td>\n",
       "      <td>NaN</td>\n",
       "      <td>NaN</td>\n",
       "      <td>NaN</td>\n",
       "      <td>NaN</td>\n",
       "      <td>NaN</td>\n",
       "      <td>NaN</td>\n",
       "      <td>NaN</td>\n",
       "      <td>NaN</td>\n",
       "      <td>NaN</td>\n",
       "      <td>NaN</td>\n",
       "    </tr>\n",
       "    <tr>\n",
       "      <th>estudante[estudante[99]]</th>\n",
       "      <td>NaN</td>\n",
       "      <td>NaN</td>\n",
       "      <td>-4.968973</td>\n",
       "      <td>NaN</td>\n",
       "      <td>NaN</td>\n",
       "      <td>NaN</td>\n",
       "      <td>NaN</td>\n",
       "      <td>NaN</td>\n",
       "      <td>NaN</td>\n",
       "      <td>NaN</td>\n",
       "      <td>NaN</td>\n",
       "      <td>NaN</td>\n",
       "      <td>NaN</td>\n",
       "      <td>NaN</td>\n",
       "      <td>NaN</td>\n",
       "    </tr>\n",
       "    <tr>\n",
       "      <th>estudante[estudante[9]]</th>\n",
       "      <td>-19.044619</td>\n",
       "      <td>NaN</td>\n",
       "      <td>NaN</td>\n",
       "      <td>NaN</td>\n",
       "      <td>NaN</td>\n",
       "      <td>NaN</td>\n",
       "      <td>NaN</td>\n",
       "      <td>NaN</td>\n",
       "      <td>NaN</td>\n",
       "      <td>NaN</td>\n",
       "      <td>NaN</td>\n",
       "      <td>NaN</td>\n",
       "      <td>NaN</td>\n",
       "      <td>NaN</td>\n",
       "      <td>NaN</td>\n",
       "    </tr>\n",
       "    <tr>\n",
       "      <th>mes[mes]</th>\n",
       "      <td>-0.203086</td>\n",
       "      <td>0.090264</td>\n",
       "      <td>0.303976</td>\n",
       "      <td>0.018017</td>\n",
       "      <td>0.442774</td>\n",
       "      <td>0.653113</td>\n",
       "      <td>-0.153771</td>\n",
       "      <td>-0.974165</td>\n",
       "      <td>-0.413556</td>\n",
       "      <td>-0.262580</td>\n",
       "      <td>0.774781</td>\n",
       "      <td>0.675184</td>\n",
       "      <td>-0.244344</td>\n",
       "      <td>-0.278670</td>\n",
       "      <td>-0.427937</td>\n",
       "    </tr>\n",
       "  </tbody>\n",
       "</table>\n",
       "<p>612 rows × 15 columns</p>\n",
       "</div>"
      ],
      "text/plain": [
       "                                  1         2          3         4         5   \\\n",
       "Group                      -2.197466  6.849556  -8.096587  4.982848  0.514535   \n",
       "estudante[estudante[100]]        NaN       NaN   4.100892       NaN       NaN   \n",
       "estudante[estudante[101]]        NaN       NaN   4.460139       NaN       NaN   \n",
       "estudante[estudante[102]]        NaN       NaN  38.702701       NaN       NaN   \n",
       "estudante[estudante[103]]        NaN       NaN  18.454927       NaN       NaN   \n",
       "...                              ...       ...        ...       ...       ...   \n",
       "estudante[estudante[97]]         NaN       NaN  -4.075691       NaN       NaN   \n",
       "estudante[estudante[98]]         NaN       NaN  -9.981291       NaN       NaN   \n",
       "estudante[estudante[99]]         NaN       NaN  -4.968973       NaN       NaN   \n",
       "estudante[estudante[9]]   -19.044619       NaN        NaN       NaN       NaN   \n",
       "mes[mes]                   -0.203086  0.090264   0.303976  0.018017  0.442774   \n",
       "\n",
       "                                 6         7         8         9          10  \\\n",
       "Group                      0.266652 -2.699861  9.652224  7.484015  16.098956   \n",
       "estudante[estudante[100]]       NaN       NaN       NaN       NaN        NaN   \n",
       "estudante[estudante[101]]       NaN       NaN       NaN       NaN        NaN   \n",
       "estudante[estudante[102]]       NaN       NaN       NaN       NaN        NaN   \n",
       "estudante[estudante[103]]       NaN       NaN       NaN       NaN        NaN   \n",
       "...                             ...       ...       ...       ...        ...   \n",
       "estudante[estudante[97]]        NaN       NaN       NaN       NaN        NaN   \n",
       "estudante[estudante[98]]        NaN       NaN       NaN       NaN        NaN   \n",
       "estudante[estudante[99]]        NaN       NaN       NaN       NaN        NaN   \n",
       "estudante[estudante[9]]         NaN       NaN       NaN       NaN        NaN   \n",
       "mes[mes]                   0.653113 -0.153771 -0.974165 -0.413556  -0.262580   \n",
       "\n",
       "                                  11        12        13        14        15  \n",
       "Group                     -14.840798 -8.029107 -7.894982 -9.042282  6.952297  \n",
       "estudante[estudante[100]]        NaN       NaN       NaN       NaN       NaN  \n",
       "estudante[estudante[101]]        NaN       NaN       NaN       NaN       NaN  \n",
       "estudante[estudante[102]]        NaN       NaN       NaN       NaN       NaN  \n",
       "estudante[estudante[103]]        NaN       NaN       NaN       NaN       NaN  \n",
       "...                              ...       ...       ...       ...       ...  \n",
       "estudante[estudante[97]]         NaN       NaN       NaN       NaN       NaN  \n",
       "estudante[estudante[98]]         NaN       NaN       NaN       NaN       NaN  \n",
       "estudante[estudante[99]]         NaN       NaN       NaN       NaN       NaN  \n",
       "estudante[estudante[9]]          NaN       NaN       NaN       NaN       NaN  \n",
       "mes[mes]                    0.774781  0.675184 -0.244344 -0.278670 -0.427937  \n",
       "\n",
       "[612 rows x 15 columns]"
      ]
     },
     "execution_count": 97,
     "metadata": {},
     "output_type": "execute_result"
    }
   ],
   "source": [
    "efeitos_aleatrios = pd.DataFrame(modelo_completo_hlm3.random_effects)\n",
    "efeitos_aleatrios\n"
   ]
  },
  {
   "cell_type": "code",
   "execution_count": 99,
   "id": "e0a8f865",
   "metadata": {},
   "outputs": [
    {
     "data": {
      "text/plain": [
       "0       37.420222\n",
       "1       42.278318\n",
       "2       47.136415\n",
       "3       51.994512\n",
       "4       69.677712\n",
       "          ...    \n",
       "2435    94.446050\n",
       "2436    88.227431\n",
       "2437    91.813924\n",
       "2438    95.400418\n",
       "2439    98.986911\n",
       "Length: 2440, dtype: float64"
      ]
     },
     "execution_count": 99,
     "metadata": {},
     "output_type": "execute_result"
    }
   ],
   "source": [
    "modelo_completo_hlm3.fittedvalues"
   ]
  },
  {
   "cell_type": "code",
   "execution_count": null,
   "id": "905868d4",
   "metadata": {},
   "outputs": [],
   "source": []
  }
 ],
 "metadata": {
  "kernelspec": {
   "display_name": "Python 3 (ipykernel)",
   "language": "python",
   "name": "python3"
  },
  "language_info": {
   "codemirror_mode": {
    "name": "ipython",
    "version": 3
   },
   "file_extension": ".py",
   "mimetype": "text/x-python",
   "name": "python",
   "nbconvert_exporter": "python",
   "pygments_lexer": "ipython3",
   "version": "3.9.13"
  }
 },
 "nbformat": 4,
 "nbformat_minor": 5
}
