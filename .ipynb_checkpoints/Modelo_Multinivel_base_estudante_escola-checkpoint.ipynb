{
 "cells": [
  {
   "cell_type": "code",
   "execution_count": 59,
   "id": "11489539",
   "metadata": {},
   "outputs": [],
   "source": [
    "import pandas as pd\n",
    "import numpy as np\n",
    "import matplotlib.pyplot as plt\n",
    "import seaborn as sns"
   ]
  },
  {
   "cell_type": "markdown",
   "id": "a896994d",
   "metadata": {},
   "source": [
    "# Modelos Multinível\n",
    "\n",
    "Exmplo da aula do MBA DSA USP/ESALQ com Prof. Luiz Fávero\n",
    "\n",
    "Modelos que reconhecem a existência de estruturas multinível ou hierárquicas. <br>\n",
    "\n",
    "Melhor previsibilidade em relação aos Modelos OLS\n",
    "\n",
    "\n",
    "Devemos testar se os termos aleatórios são estatisticamente diferentes de zero.<br> Se forem, os modelos tradicionais OLS não serão adequados.\n",
    "\n",
    "### Objetivo\n",
    "\n",
    "\n",
    "\n",
    "\n",
    "### Contexto\n",
    "\n",
    "Base Estudante Escola\n",
    "\n",
    "Desempenho no vestibular\n",
    "Quantidade de horas de estudos semanais\n",
    "Tempo de Experiência médio dos professores na referida escola\n"
   ]
  },
  {
   "cell_type": "code",
   "execution_count": 60,
   "id": "e988d559",
   "metadata": {},
   "outputs": [
    {
     "data": {
      "text/html": [
       "<div>\n",
       "<style scoped>\n",
       "    .dataframe tbody tr th:only-of-type {\n",
       "        vertical-align: middle;\n",
       "    }\n",
       "\n",
       "    .dataframe tbody tr th {\n",
       "        vertical-align: top;\n",
       "    }\n",
       "\n",
       "    .dataframe thead th {\n",
       "        text-align: right;\n",
       "    }\n",
       "</style>\n",
       "<table border=\"1\" class=\"dataframe\">\n",
       "  <thead>\n",
       "    <tr style=\"text-align: right;\">\n",
       "      <th></th>\n",
       "      <th>estudante</th>\n",
       "      <th>escola</th>\n",
       "      <th>desempenho</th>\n",
       "      <th>horas</th>\n",
       "      <th>texp</th>\n",
       "    </tr>\n",
       "  </thead>\n",
       "  <tbody>\n",
       "    <tr>\n",
       "      <th>0</th>\n",
       "      <td>1</td>\n",
       "      <td>1</td>\n",
       "      <td>25.0</td>\n",
       "      <td>11</td>\n",
       "      <td>3.6</td>\n",
       "    </tr>\n",
       "    <tr>\n",
       "      <th>1</th>\n",
       "      <td>2</td>\n",
       "      <td>1</td>\n",
       "      <td>52.0</td>\n",
       "      <td>23</td>\n",
       "      <td>3.6</td>\n",
       "    </tr>\n",
       "    <tr>\n",
       "      <th>2</th>\n",
       "      <td>3</td>\n",
       "      <td>1</td>\n",
       "      <td>52.0</td>\n",
       "      <td>25</td>\n",
       "      <td>3.6</td>\n",
       "    </tr>\n",
       "    <tr>\n",
       "      <th>3</th>\n",
       "      <td>4</td>\n",
       "      <td>1</td>\n",
       "      <td>30.0</td>\n",
       "      <td>14</td>\n",
       "      <td>3.6</td>\n",
       "    </tr>\n",
       "    <tr>\n",
       "      <th>4</th>\n",
       "      <td>5</td>\n",
       "      <td>1</td>\n",
       "      <td>51.0</td>\n",
       "      <td>24</td>\n",
       "      <td>3.6</td>\n",
       "    </tr>\n",
       "    <tr>\n",
       "      <th>...</th>\n",
       "      <td>...</td>\n",
       "      <td>...</td>\n",
       "      <td>...</td>\n",
       "      <td>...</td>\n",
       "      <td>...</td>\n",
       "    </tr>\n",
       "    <tr>\n",
       "      <th>353</th>\n",
       "      <td>354</td>\n",
       "      <td>10</td>\n",
       "      <td>46.5</td>\n",
       "      <td>28</td>\n",
       "      <td>3.9</td>\n",
       "    </tr>\n",
       "    <tr>\n",
       "      <th>354</th>\n",
       "      <td>355</td>\n",
       "      <td>10</td>\n",
       "      <td>21.0</td>\n",
       "      <td>9</td>\n",
       "      <td>3.9</td>\n",
       "    </tr>\n",
       "    <tr>\n",
       "      <th>355</th>\n",
       "      <td>356</td>\n",
       "      <td>10</td>\n",
       "      <td>42.0</td>\n",
       "      <td>27</td>\n",
       "      <td>3.9</td>\n",
       "    </tr>\n",
       "    <tr>\n",
       "      <th>356</th>\n",
       "      <td>357</td>\n",
       "      <td>10</td>\n",
       "      <td>14.0</td>\n",
       "      <td>7</td>\n",
       "      <td>3.9</td>\n",
       "    </tr>\n",
       "    <tr>\n",
       "      <th>357</th>\n",
       "      <td>358</td>\n",
       "      <td>10</td>\n",
       "      <td>41.5</td>\n",
       "      <td>24</td>\n",
       "      <td>3.9</td>\n",
       "    </tr>\n",
       "  </tbody>\n",
       "</table>\n",
       "<p>358 rows × 5 columns</p>\n",
       "</div>"
      ],
      "text/plain": [
       "    estudante escola  desempenho  horas  texp\n",
       "0           1      1        25.0     11   3.6\n",
       "1           2      1        52.0     23   3.6\n",
       "2           3      1        52.0     25   3.6\n",
       "3           4      1        30.0     14   3.6\n",
       "4           5      1        51.0     24   3.6\n",
       "..        ...    ...         ...    ...   ...\n",
       "353       354     10        46.5     28   3.9\n",
       "354       355     10        21.0      9   3.9\n",
       "355       356     10        42.0     27   3.9\n",
       "356       357     10        14.0      7   3.9\n",
       "357       358     10        41.5     24   3.9\n",
       "\n",
       "[358 rows x 5 columns]"
      ]
     },
     "execution_count": 60,
     "metadata": {},
     "output_type": "execute_result"
    }
   ],
   "source": [
    "df_escola = pd.read_csv(r'bases\\estudante_escola.csv')\n",
    "df_escola['estudante'] = df_escola['estudante'].astype('str')\n",
    "df_escola['escola'] = df_escola['escola'].astype('str')\n",
    "df_escola"
   ]
  },
  {
   "cell_type": "markdown",
   "id": "44b858e5",
   "metadata": {},
   "source": [
    "# Análise Descritiva"
   ]
  },
  {
   "cell_type": "code",
   "execution_count": 61,
   "id": "88ac3ac9",
   "metadata": {},
   "outputs": [
    {
     "data": {
      "text/html": [
       "<div>\n",
       "<style scoped>\n",
       "    .dataframe tbody tr th:only-of-type {\n",
       "        vertical-align: middle;\n",
       "    }\n",
       "\n",
       "    .dataframe tbody tr th {\n",
       "        vertical-align: top;\n",
       "    }\n",
       "\n",
       "    .dataframe thead th {\n",
       "        text-align: right;\n",
       "    }\n",
       "</style>\n",
       "<table border=\"1\" class=\"dataframe\">\n",
       "  <thead>\n",
       "    <tr style=\"text-align: right;\">\n",
       "      <th></th>\n",
       "      <th>desempenho</th>\n",
       "      <th>horas</th>\n",
       "      <th>texp</th>\n",
       "    </tr>\n",
       "  </thead>\n",
       "  <tbody>\n",
       "    <tr>\n",
       "      <th>count</th>\n",
       "      <td>358.00</td>\n",
       "      <td>358.00</td>\n",
       "      <td>358.00</td>\n",
       "    </tr>\n",
       "    <tr>\n",
       "      <th>mean</th>\n",
       "      <td>41.55</td>\n",
       "      <td>19.00</td>\n",
       "      <td>5.16</td>\n",
       "    </tr>\n",
       "    <tr>\n",
       "      <th>std</th>\n",
       "      <td>23.23</td>\n",
       "      <td>6.37</td>\n",
       "      <td>3.68</td>\n",
       "    </tr>\n",
       "    <tr>\n",
       "      <th>min</th>\n",
       "      <td>6.50</td>\n",
       "      <td>4.00</td>\n",
       "      <td>1.90</td>\n",
       "    </tr>\n",
       "    <tr>\n",
       "      <th>25%</th>\n",
       "      <td>21.00</td>\n",
       "      <td>14.00</td>\n",
       "      <td>1.90</td>\n",
       "    </tr>\n",
       "    <tr>\n",
       "      <th>50%</th>\n",
       "      <td>35.50</td>\n",
       "      <td>20.00</td>\n",
       "      <td>3.60</td>\n",
       "    </tr>\n",
       "    <tr>\n",
       "      <th>75%</th>\n",
       "      <td>59.00</td>\n",
       "      <td>24.00</td>\n",
       "      <td>7.50</td>\n",
       "    </tr>\n",
       "    <tr>\n",
       "      <th>max</th>\n",
       "      <td>100.00</td>\n",
       "      <td>31.00</td>\n",
       "      <td>13.00</td>\n",
       "    </tr>\n",
       "  </tbody>\n",
       "</table>\n",
       "</div>"
      ],
      "text/plain": [
       "       desempenho   horas    texp\n",
       "count      358.00  358.00  358.00\n",
       "mean        41.55   19.00    5.16\n",
       "std         23.23    6.37    3.68\n",
       "min          6.50    4.00    1.90\n",
       "25%         21.00   14.00    1.90\n",
       "50%         35.50   20.00    3.60\n",
       "75%         59.00   24.00    7.50\n",
       "max        100.00   31.00   13.00"
      ]
     },
     "execution_count": 61,
     "metadata": {},
     "output_type": "execute_result"
    }
   ],
   "source": [
    "df_escola.describe().round(2)"
   ]
  },
  {
   "cell_type": "code",
   "execution_count": 62,
   "id": "9ea3ad2e",
   "metadata": {},
   "outputs": [
    {
     "data": {
      "text/plain": [
       "escola\n",
       "1     47\n",
       "10    33\n",
       "2     25\n",
       "3     48\n",
       "4     20\n",
       "5     48\n",
       "6     30\n",
       "7     28\n",
       "8     35\n",
       "9     44\n",
       "Name: estudante, dtype: int64"
      ]
     },
     "execution_count": 62,
     "metadata": {},
     "output_type": "execute_result"
    }
   ],
   "source": [
    "df_escola.groupby('escola')['estudante'].count()"
   ]
  },
  {
   "cell_type": "code",
   "execution_count": 63,
   "id": "e378419a",
   "metadata": {},
   "outputs": [
    {
     "data": {
      "text/plain": [
       "escola\n",
       "1     36.765957\n",
       "10    38.590909\n",
       "2     21.400000\n",
       "3     67.125000\n",
       "4     55.325000\n",
       "5     19.270833\n",
       "6     33.966667\n",
       "7     57.532143\n",
       "8     75.428571\n",
       "9     18.556818\n",
       "Name: desempenho, dtype: float64"
      ]
     },
     "execution_count": 63,
     "metadata": {},
     "output_type": "execute_result"
    }
   ],
   "source": [
    "#Desempenho Médio por Escola\n",
    "df_escola.groupby('escola')['desempenho'].mean()"
   ]
  },
  {
   "cell_type": "markdown",
   "id": "d8bd9c85",
   "metadata": {},
   "source": [
    "### Gráfico Desempenho por Escola"
   ]
  },
  {
   "cell_type": "code",
   "execution_count": 130,
   "id": "0cec7a3b",
   "metadata": {},
   "outputs": [
    {
     "data": {
      "application/vnd.plotly.v1+json": {
       "config": {
        "plotlyServerURL": "https://plot.ly"
       },
       "data": [
        {
         "hovertemplate": "escola=%{x}<br>desempenho=%{y}<extra></extra>",
         "legendgroup": "",
         "marker": {
          "color": "#636efa",
          "symbol": "circle"
         },
         "mode": "markers",
         "name": "",
         "orientation": "v",
         "showlegend": false,
         "type": "scatter",
         "x": [
          "1",
          "1",
          "1",
          "1",
          "1",
          "1",
          "1",
          "1",
          "1",
          "1",
          "1",
          "1",
          "1",
          "1",
          "1",
          "1",
          "1",
          "1",
          "1",
          "1",
          "1",
          "1",
          "1",
          "1",
          "1",
          "1",
          "1",
          "1",
          "1",
          "1",
          "1",
          "1",
          "1",
          "1",
          "1",
          "1",
          "1",
          "1",
          "1",
          "1",
          "1",
          "1",
          "1",
          "1",
          "1",
          "1",
          "1",
          "2",
          "2",
          "2",
          "2",
          "2",
          "2",
          "2",
          "2",
          "2",
          "2",
          "2",
          "2",
          "2",
          "2",
          "2",
          "2",
          "2",
          "2",
          "2",
          "2",
          "2",
          "2",
          "2",
          "2",
          "2",
          "3",
          "3",
          "3",
          "3",
          "3",
          "3",
          "3",
          "3",
          "3",
          "3",
          "3",
          "3",
          "3",
          "3",
          "3",
          "3",
          "3",
          "3",
          "3",
          "3",
          "3",
          "3",
          "3",
          "3",
          "3",
          "3",
          "3",
          "3",
          "3",
          "3",
          "3",
          "3",
          "3",
          "3",
          "3",
          "3",
          "3",
          "3",
          "3",
          "3",
          "3",
          "3",
          "3",
          "3",
          "3",
          "3",
          "3",
          "3",
          "4",
          "4",
          "4",
          "4",
          "4",
          "4",
          "4",
          "4",
          "4",
          "4",
          "4",
          "4",
          "4",
          "4",
          "4",
          "4",
          "4",
          "4",
          "4",
          "4",
          "5",
          "5",
          "5",
          "5",
          "5",
          "5",
          "5",
          "5",
          "5",
          "5",
          "5",
          "5",
          "5",
          "5",
          "5",
          "5",
          "5",
          "5",
          "5",
          "5",
          "5",
          "5",
          "5",
          "5",
          "5",
          "5",
          "5",
          "5",
          "5",
          "5",
          "5",
          "5",
          "5",
          "5",
          "5",
          "5",
          "5",
          "5",
          "5",
          "5",
          "5",
          "5",
          "5",
          "5",
          "5",
          "5",
          "5",
          "5",
          "6",
          "6",
          "6",
          "6",
          "6",
          "6",
          "6",
          "6",
          "6",
          "6",
          "6",
          "6",
          "6",
          "6",
          "6",
          "6",
          "6",
          "6",
          "6",
          "6",
          "6",
          "6",
          "6",
          "6",
          "6",
          "6",
          "6",
          "6",
          "6",
          "6",
          "7",
          "7",
          "7",
          "7",
          "7",
          "7",
          "7",
          "7",
          "7",
          "7",
          "7",
          "7",
          "7",
          "7",
          "7",
          "7",
          "7",
          "7",
          "7",
          "7",
          "7",
          "7",
          "7",
          "7",
          "7",
          "7",
          "7",
          "7",
          "8",
          "8",
          "8",
          "8",
          "8",
          "8",
          "8",
          "8",
          "8",
          "8",
          "8",
          "8",
          "8",
          "8",
          "8",
          "8",
          "8",
          "8",
          "8",
          "8",
          "8",
          "8",
          "8",
          "8",
          "8",
          "8",
          "8",
          "8",
          "8",
          "8",
          "8",
          "8",
          "8",
          "8",
          "8",
          "9",
          "9",
          "9",
          "9",
          "9",
          "9",
          "9",
          "9",
          "9",
          "9",
          "9",
          "9",
          "9",
          "9",
          "9",
          "9",
          "9",
          "9",
          "9",
          "9",
          "9",
          "9",
          "9",
          "9",
          "9",
          "9",
          "9",
          "9",
          "9",
          "9",
          "9",
          "9",
          "9",
          "9",
          "9",
          "9",
          "9",
          "9",
          "9",
          "9",
          "9",
          "9",
          "9",
          "9",
          "10",
          "10",
          "10",
          "10",
          "10",
          "10",
          "10",
          "10",
          "10",
          "10",
          "10",
          "10",
          "10",
          "10",
          "10",
          "10",
          "10",
          "10",
          "10",
          "10",
          "10",
          "10",
          "10",
          "10",
          "10",
          "10",
          "10",
          "10",
          "10",
          "10",
          "10",
          "10",
          "10"
         ],
         "xaxis": "x",
         "y": [
          25,
          52,
          52,
          30,
          51,
          25,
          15,
          18,
          21,
          65,
          33,
          43,
          57,
          56,
          60,
          54,
          52,
          32,
          26,
          54,
          45,
          29,
          39,
          25,
          32,
          57,
          33,
          30,
          37,
          38,
          30,
          21,
          42,
          41,
          33,
          25,
          32,
          21,
          20,
          28,
          21,
          30,
          41,
          30,
          61,
          43,
          23,
          20,
          22,
          22,
          35,
          19,
          17,
          29,
          16,
          16,
          29,
          12,
          11,
          25,
          19,
          11,
          25,
          28,
          22,
          24,
          27,
          20,
          25,
          14,
          28,
          19,
          83,
          50,
          57,
          100,
          77,
          64,
          42,
          60,
          63,
          63,
          52,
          100,
          42,
          45,
          62,
          60,
          83,
          56,
          59,
          69,
          67,
          79,
          73,
          62,
          63,
          57,
          71,
          81,
          65,
          99,
          78,
          46,
          37,
          70,
          70,
          75,
          63,
          59,
          78,
          63,
          82,
          71,
          80,
          58,
          67,
          72,
          79,
          70,
          54,
          52.5,
          44.5,
          56.5,
          66,
          39,
          77.5,
          49.5,
          58.5,
          73,
          51.5,
          54,
          44,
          60,
          60.5,
          35.5,
          25,
          67.5,
          68,
          69.5,
          18.5,
          10.5,
          8.5,
          26.5,
          22.5,
          22.5,
          18.5,
          18.5,
          17.5,
          18.5,
          27.5,
          32.5,
          23.5,
          15.5,
          20.5,
          28.5,
          22.5,
          28.5,
          14.5,
          22.5,
          20.5,
          11.5,
          17.5,
          21.5,
          22.5,
          12.5,
          8.5,
          21.5,
          19.5,
          15.5,
          14.5,
          16.5,
          19.5,
          25.5,
          15.5,
          22.5,
          18.5,
          14.5,
          16.5,
          18.5,
          16.5,
          19.5,
          23.5,
          20.5,
          13.5,
          28.5,
          6.5,
          25.5,
          18.5,
          29.5,
          33.5,
          29,
          36.5,
          45,
          18.5,
          29.5,
          45,
          23,
          32.5,
          30.5,
          29,
          42.5,
          35.5,
          21.5,
          32,
          28.5,
          40,
          34,
          44,
          32.5,
          28,
          39.5,
          36.5,
          43.5,
          33,
          49,
          37,
          42,
          77.9,
          21,
          20.7,
          78.9,
          40.5,
          75.5,
          78.9,
          57.7,
          77.9,
          100,
          23.7,
          21.7,
          100,
          15.3,
          47.6,
          55.3,
          30.8,
          54.3,
          37.5,
          76.2,
          41.5,
          98.4,
          100,
          55.3,
          55.3,
          45.2,
          57.7,
          66.1,
          56,
          70,
          76,
          84,
          65,
          84,
          79,
          81,
          62,
          85,
          59,
          83,
          77,
          69,
          80,
          72,
          83,
          77,
          86,
          93,
          52,
          88,
          76,
          80,
          77,
          65,
          65,
          87,
          79,
          82,
          75,
          79,
          72,
          73,
          69,
          20,
          19.5,
          23,
          10.5,
          14.5,
          21.5,
          21,
          18.5,
          17.5,
          21,
          17.5,
          21,
          20,
          17.5,
          15,
          19.5,
          15,
          15,
          24,
          14.5,
          16.5,
          22,
          18.5,
          17.5,
          17,
          21.5,
          21.5,
          23,
          15,
          18,
          18,
          23,
          20.5,
          20.5,
          12.5,
          12,
          17,
          20,
          15.5,
          25,
          15.5,
          20,
          23,
          17.5,
          32,
          50.5,
          35.5,
          34.5,
          23,
          33,
          39.5,
          34,
          41,
          34.5,
          45,
          36.5,
          48,
          34.5,
          47,
          42.5,
          40.5,
          48,
          42,
          45.5,
          44,
          20.5,
          43.5,
          40.5,
          48,
          41.5,
          42,
          41.5,
          46.5,
          21,
          42,
          14,
          41.5
         ],
         "yaxis": "y"
        }
       ],
       "layout": {
        "legend": {
         "tracegroupgap": 0
        },
        "margin": {
         "t": 60
        },
        "template": {
         "data": {
          "bar": [
           {
            "error_x": {
             "color": "#2a3f5f"
            },
            "error_y": {
             "color": "#2a3f5f"
            },
            "marker": {
             "line": {
              "color": "#E5ECF6",
              "width": 0.5
             },
             "pattern": {
              "fillmode": "overlay",
              "size": 10,
              "solidity": 0.2
             }
            },
            "type": "bar"
           }
          ],
          "barpolar": [
           {
            "marker": {
             "line": {
              "color": "#E5ECF6",
              "width": 0.5
             },
             "pattern": {
              "fillmode": "overlay",
              "size": 10,
              "solidity": 0.2
             }
            },
            "type": "barpolar"
           }
          ],
          "carpet": [
           {
            "aaxis": {
             "endlinecolor": "#2a3f5f",
             "gridcolor": "white",
             "linecolor": "white",
             "minorgridcolor": "white",
             "startlinecolor": "#2a3f5f"
            },
            "baxis": {
             "endlinecolor": "#2a3f5f",
             "gridcolor": "white",
             "linecolor": "white",
             "minorgridcolor": "white",
             "startlinecolor": "#2a3f5f"
            },
            "type": "carpet"
           }
          ],
          "choropleth": [
           {
            "colorbar": {
             "outlinewidth": 0,
             "ticks": ""
            },
            "type": "choropleth"
           }
          ],
          "contour": [
           {
            "colorbar": {
             "outlinewidth": 0,
             "ticks": ""
            },
            "colorscale": [
             [
              0,
              "#0d0887"
             ],
             [
              0.1111111111111111,
              "#46039f"
             ],
             [
              0.2222222222222222,
              "#7201a8"
             ],
             [
              0.3333333333333333,
              "#9c179e"
             ],
             [
              0.4444444444444444,
              "#bd3786"
             ],
             [
              0.5555555555555556,
              "#d8576b"
             ],
             [
              0.6666666666666666,
              "#ed7953"
             ],
             [
              0.7777777777777778,
              "#fb9f3a"
             ],
             [
              0.8888888888888888,
              "#fdca26"
             ],
             [
              1,
              "#f0f921"
             ]
            ],
            "type": "contour"
           }
          ],
          "contourcarpet": [
           {
            "colorbar": {
             "outlinewidth": 0,
             "ticks": ""
            },
            "type": "contourcarpet"
           }
          ],
          "heatmap": [
           {
            "colorbar": {
             "outlinewidth": 0,
             "ticks": ""
            },
            "colorscale": [
             [
              0,
              "#0d0887"
             ],
             [
              0.1111111111111111,
              "#46039f"
             ],
             [
              0.2222222222222222,
              "#7201a8"
             ],
             [
              0.3333333333333333,
              "#9c179e"
             ],
             [
              0.4444444444444444,
              "#bd3786"
             ],
             [
              0.5555555555555556,
              "#d8576b"
             ],
             [
              0.6666666666666666,
              "#ed7953"
             ],
             [
              0.7777777777777778,
              "#fb9f3a"
             ],
             [
              0.8888888888888888,
              "#fdca26"
             ],
             [
              1,
              "#f0f921"
             ]
            ],
            "type": "heatmap"
           }
          ],
          "heatmapgl": [
           {
            "colorbar": {
             "outlinewidth": 0,
             "ticks": ""
            },
            "colorscale": [
             [
              0,
              "#0d0887"
             ],
             [
              0.1111111111111111,
              "#46039f"
             ],
             [
              0.2222222222222222,
              "#7201a8"
             ],
             [
              0.3333333333333333,
              "#9c179e"
             ],
             [
              0.4444444444444444,
              "#bd3786"
             ],
             [
              0.5555555555555556,
              "#d8576b"
             ],
             [
              0.6666666666666666,
              "#ed7953"
             ],
             [
              0.7777777777777778,
              "#fb9f3a"
             ],
             [
              0.8888888888888888,
              "#fdca26"
             ],
             [
              1,
              "#f0f921"
             ]
            ],
            "type": "heatmapgl"
           }
          ],
          "histogram": [
           {
            "marker": {
             "pattern": {
              "fillmode": "overlay",
              "size": 10,
              "solidity": 0.2
             }
            },
            "type": "histogram"
           }
          ],
          "histogram2d": [
           {
            "colorbar": {
             "outlinewidth": 0,
             "ticks": ""
            },
            "colorscale": [
             [
              0,
              "#0d0887"
             ],
             [
              0.1111111111111111,
              "#46039f"
             ],
             [
              0.2222222222222222,
              "#7201a8"
             ],
             [
              0.3333333333333333,
              "#9c179e"
             ],
             [
              0.4444444444444444,
              "#bd3786"
             ],
             [
              0.5555555555555556,
              "#d8576b"
             ],
             [
              0.6666666666666666,
              "#ed7953"
             ],
             [
              0.7777777777777778,
              "#fb9f3a"
             ],
             [
              0.8888888888888888,
              "#fdca26"
             ],
             [
              1,
              "#f0f921"
             ]
            ],
            "type": "histogram2d"
           }
          ],
          "histogram2dcontour": [
           {
            "colorbar": {
             "outlinewidth": 0,
             "ticks": ""
            },
            "colorscale": [
             [
              0,
              "#0d0887"
             ],
             [
              0.1111111111111111,
              "#46039f"
             ],
             [
              0.2222222222222222,
              "#7201a8"
             ],
             [
              0.3333333333333333,
              "#9c179e"
             ],
             [
              0.4444444444444444,
              "#bd3786"
             ],
             [
              0.5555555555555556,
              "#d8576b"
             ],
             [
              0.6666666666666666,
              "#ed7953"
             ],
             [
              0.7777777777777778,
              "#fb9f3a"
             ],
             [
              0.8888888888888888,
              "#fdca26"
             ],
             [
              1,
              "#f0f921"
             ]
            ],
            "type": "histogram2dcontour"
           }
          ],
          "mesh3d": [
           {
            "colorbar": {
             "outlinewidth": 0,
             "ticks": ""
            },
            "type": "mesh3d"
           }
          ],
          "parcoords": [
           {
            "line": {
             "colorbar": {
              "outlinewidth": 0,
              "ticks": ""
             }
            },
            "type": "parcoords"
           }
          ],
          "pie": [
           {
            "automargin": true,
            "type": "pie"
           }
          ],
          "scatter": [
           {
            "fillpattern": {
             "fillmode": "overlay",
             "size": 10,
             "solidity": 0.2
            },
            "type": "scatter"
           }
          ],
          "scatter3d": [
           {
            "line": {
             "colorbar": {
              "outlinewidth": 0,
              "ticks": ""
             }
            },
            "marker": {
             "colorbar": {
              "outlinewidth": 0,
              "ticks": ""
             }
            },
            "type": "scatter3d"
           }
          ],
          "scattercarpet": [
           {
            "marker": {
             "colorbar": {
              "outlinewidth": 0,
              "ticks": ""
             }
            },
            "type": "scattercarpet"
           }
          ],
          "scattergeo": [
           {
            "marker": {
             "colorbar": {
              "outlinewidth": 0,
              "ticks": ""
             }
            },
            "type": "scattergeo"
           }
          ],
          "scattergl": [
           {
            "marker": {
             "colorbar": {
              "outlinewidth": 0,
              "ticks": ""
             }
            },
            "type": "scattergl"
           }
          ],
          "scattermapbox": [
           {
            "marker": {
             "colorbar": {
              "outlinewidth": 0,
              "ticks": ""
             }
            },
            "type": "scattermapbox"
           }
          ],
          "scatterpolar": [
           {
            "marker": {
             "colorbar": {
              "outlinewidth": 0,
              "ticks": ""
             }
            },
            "type": "scatterpolar"
           }
          ],
          "scatterpolargl": [
           {
            "marker": {
             "colorbar": {
              "outlinewidth": 0,
              "ticks": ""
             }
            },
            "type": "scatterpolargl"
           }
          ],
          "scatterternary": [
           {
            "marker": {
             "colorbar": {
              "outlinewidth": 0,
              "ticks": ""
             }
            },
            "type": "scatterternary"
           }
          ],
          "surface": [
           {
            "colorbar": {
             "outlinewidth": 0,
             "ticks": ""
            },
            "colorscale": [
             [
              0,
              "#0d0887"
             ],
             [
              0.1111111111111111,
              "#46039f"
             ],
             [
              0.2222222222222222,
              "#7201a8"
             ],
             [
              0.3333333333333333,
              "#9c179e"
             ],
             [
              0.4444444444444444,
              "#bd3786"
             ],
             [
              0.5555555555555556,
              "#d8576b"
             ],
             [
              0.6666666666666666,
              "#ed7953"
             ],
             [
              0.7777777777777778,
              "#fb9f3a"
             ],
             [
              0.8888888888888888,
              "#fdca26"
             ],
             [
              1,
              "#f0f921"
             ]
            ],
            "type": "surface"
           }
          ],
          "table": [
           {
            "cells": {
             "fill": {
              "color": "#EBF0F8"
             },
             "line": {
              "color": "white"
             }
            },
            "header": {
             "fill": {
              "color": "#C8D4E3"
             },
             "line": {
              "color": "white"
             }
            },
            "type": "table"
           }
          ]
         },
         "layout": {
          "annotationdefaults": {
           "arrowcolor": "#2a3f5f",
           "arrowhead": 0,
           "arrowwidth": 1
          },
          "autotypenumbers": "strict",
          "coloraxis": {
           "colorbar": {
            "outlinewidth": 0,
            "ticks": ""
           }
          },
          "colorscale": {
           "diverging": [
            [
             0,
             "#8e0152"
            ],
            [
             0.1,
             "#c51b7d"
            ],
            [
             0.2,
             "#de77ae"
            ],
            [
             0.3,
             "#f1b6da"
            ],
            [
             0.4,
             "#fde0ef"
            ],
            [
             0.5,
             "#f7f7f7"
            ],
            [
             0.6,
             "#e6f5d0"
            ],
            [
             0.7,
             "#b8e186"
            ],
            [
             0.8,
             "#7fbc41"
            ],
            [
             0.9,
             "#4d9221"
            ],
            [
             1,
             "#276419"
            ]
           ],
           "sequential": [
            [
             0,
             "#0d0887"
            ],
            [
             0.1111111111111111,
             "#46039f"
            ],
            [
             0.2222222222222222,
             "#7201a8"
            ],
            [
             0.3333333333333333,
             "#9c179e"
            ],
            [
             0.4444444444444444,
             "#bd3786"
            ],
            [
             0.5555555555555556,
             "#d8576b"
            ],
            [
             0.6666666666666666,
             "#ed7953"
            ],
            [
             0.7777777777777778,
             "#fb9f3a"
            ],
            [
             0.8888888888888888,
             "#fdca26"
            ],
            [
             1,
             "#f0f921"
            ]
           ],
           "sequentialminus": [
            [
             0,
             "#0d0887"
            ],
            [
             0.1111111111111111,
             "#46039f"
            ],
            [
             0.2222222222222222,
             "#7201a8"
            ],
            [
             0.3333333333333333,
             "#9c179e"
            ],
            [
             0.4444444444444444,
             "#bd3786"
            ],
            [
             0.5555555555555556,
             "#d8576b"
            ],
            [
             0.6666666666666666,
             "#ed7953"
            ],
            [
             0.7777777777777778,
             "#fb9f3a"
            ],
            [
             0.8888888888888888,
             "#fdca26"
            ],
            [
             1,
             "#f0f921"
            ]
           ]
          },
          "colorway": [
           "#636efa",
           "#EF553B",
           "#00cc96",
           "#ab63fa",
           "#FFA15A",
           "#19d3f3",
           "#FF6692",
           "#B6E880",
           "#FF97FF",
           "#FECB52"
          ],
          "font": {
           "color": "#2a3f5f"
          },
          "geo": {
           "bgcolor": "white",
           "lakecolor": "white",
           "landcolor": "#E5ECF6",
           "showlakes": true,
           "showland": true,
           "subunitcolor": "white"
          },
          "hoverlabel": {
           "align": "left"
          },
          "hovermode": "closest",
          "mapbox": {
           "style": "light"
          },
          "paper_bgcolor": "white",
          "plot_bgcolor": "#E5ECF6",
          "polar": {
           "angularaxis": {
            "gridcolor": "white",
            "linecolor": "white",
            "ticks": ""
           },
           "bgcolor": "#E5ECF6",
           "radialaxis": {
            "gridcolor": "white",
            "linecolor": "white",
            "ticks": ""
           }
          },
          "scene": {
           "xaxis": {
            "backgroundcolor": "#E5ECF6",
            "gridcolor": "white",
            "gridwidth": 2,
            "linecolor": "white",
            "showbackground": true,
            "ticks": "",
            "zerolinecolor": "white"
           },
           "yaxis": {
            "backgroundcolor": "#E5ECF6",
            "gridcolor": "white",
            "gridwidth": 2,
            "linecolor": "white",
            "showbackground": true,
            "ticks": "",
            "zerolinecolor": "white"
           },
           "zaxis": {
            "backgroundcolor": "#E5ECF6",
            "gridcolor": "white",
            "gridwidth": 2,
            "linecolor": "white",
            "showbackground": true,
            "ticks": "",
            "zerolinecolor": "white"
           }
          },
          "shapedefaults": {
           "line": {
            "color": "#2a3f5f"
           }
          },
          "ternary": {
           "aaxis": {
            "gridcolor": "white",
            "linecolor": "white",
            "ticks": ""
           },
           "baxis": {
            "gridcolor": "white",
            "linecolor": "white",
            "ticks": ""
           },
           "bgcolor": "#E5ECF6",
           "caxis": {
            "gridcolor": "white",
            "linecolor": "white",
            "ticks": ""
           }
          },
          "title": {
           "x": 0.05
          },
          "xaxis": {
           "automargin": true,
           "gridcolor": "white",
           "linecolor": "white",
           "ticks": "",
           "title": {
            "standoff": 15
           },
           "zerolinecolor": "white",
           "zerolinewidth": 2
          },
          "yaxis": {
           "automargin": true,
           "gridcolor": "white",
           "linecolor": "white",
           "ticks": "",
           "title": {
            "standoff": 15
           },
           "zerolinecolor": "white",
           "zerolinewidth": 2
          }
         }
        },
        "xaxis": {
         "anchor": "y",
         "domain": [
          0,
          1
         ],
         "title": {
          "text": "escola"
         }
        },
        "yaxis": {
         "anchor": "x",
         "domain": [
          0,
          1
         ],
         "title": {
          "text": "desempenho"
         }
        }
       }
      },
      "text/html": [
       "<div>                            <div id=\"beaf1c11-f5ea-4679-ad15-6c7cca0627db\" class=\"plotly-graph-div\" style=\"height:525px; width:100%;\"></div>            <script type=\"text/javascript\">                require([\"plotly\"], function(Plotly) {                    window.PLOTLYENV=window.PLOTLYENV || {};                                    if (document.getElementById(\"beaf1c11-f5ea-4679-ad15-6c7cca0627db\")) {                    Plotly.newPlot(                        \"beaf1c11-f5ea-4679-ad15-6c7cca0627db\",                        [{\"hovertemplate\":\"escola=%{x}<br>desempenho=%{y}<extra></extra>\",\"legendgroup\":\"\",\"marker\":{\"color\":\"#636efa\",\"symbol\":\"circle\"},\"mode\":\"markers\",\"name\":\"\",\"orientation\":\"v\",\"showlegend\":false,\"x\":[\"1\",\"1\",\"1\",\"1\",\"1\",\"1\",\"1\",\"1\",\"1\",\"1\",\"1\",\"1\",\"1\",\"1\",\"1\",\"1\",\"1\",\"1\",\"1\",\"1\",\"1\",\"1\",\"1\",\"1\",\"1\",\"1\",\"1\",\"1\",\"1\",\"1\",\"1\",\"1\",\"1\",\"1\",\"1\",\"1\",\"1\",\"1\",\"1\",\"1\",\"1\",\"1\",\"1\",\"1\",\"1\",\"1\",\"1\",\"2\",\"2\",\"2\",\"2\",\"2\",\"2\",\"2\",\"2\",\"2\",\"2\",\"2\",\"2\",\"2\",\"2\",\"2\",\"2\",\"2\",\"2\",\"2\",\"2\",\"2\",\"2\",\"2\",\"2\",\"2\",\"3\",\"3\",\"3\",\"3\",\"3\",\"3\",\"3\",\"3\",\"3\",\"3\",\"3\",\"3\",\"3\",\"3\",\"3\",\"3\",\"3\",\"3\",\"3\",\"3\",\"3\",\"3\",\"3\",\"3\",\"3\",\"3\",\"3\",\"3\",\"3\",\"3\",\"3\",\"3\",\"3\",\"3\",\"3\",\"3\",\"3\",\"3\",\"3\",\"3\",\"3\",\"3\",\"3\",\"3\",\"3\",\"3\",\"3\",\"3\",\"4\",\"4\",\"4\",\"4\",\"4\",\"4\",\"4\",\"4\",\"4\",\"4\",\"4\",\"4\",\"4\",\"4\",\"4\",\"4\",\"4\",\"4\",\"4\",\"4\",\"5\",\"5\",\"5\",\"5\",\"5\",\"5\",\"5\",\"5\",\"5\",\"5\",\"5\",\"5\",\"5\",\"5\",\"5\",\"5\",\"5\",\"5\",\"5\",\"5\",\"5\",\"5\",\"5\",\"5\",\"5\",\"5\",\"5\",\"5\",\"5\",\"5\",\"5\",\"5\",\"5\",\"5\",\"5\",\"5\",\"5\",\"5\",\"5\",\"5\",\"5\",\"5\",\"5\",\"5\",\"5\",\"5\",\"5\",\"5\",\"6\",\"6\",\"6\",\"6\",\"6\",\"6\",\"6\",\"6\",\"6\",\"6\",\"6\",\"6\",\"6\",\"6\",\"6\",\"6\",\"6\",\"6\",\"6\",\"6\",\"6\",\"6\",\"6\",\"6\",\"6\",\"6\",\"6\",\"6\",\"6\",\"6\",\"7\",\"7\",\"7\",\"7\",\"7\",\"7\",\"7\",\"7\",\"7\",\"7\",\"7\",\"7\",\"7\",\"7\",\"7\",\"7\",\"7\",\"7\",\"7\",\"7\",\"7\",\"7\",\"7\",\"7\",\"7\",\"7\",\"7\",\"7\",\"8\",\"8\",\"8\",\"8\",\"8\",\"8\",\"8\",\"8\",\"8\",\"8\",\"8\",\"8\",\"8\",\"8\",\"8\",\"8\",\"8\",\"8\",\"8\",\"8\",\"8\",\"8\",\"8\",\"8\",\"8\",\"8\",\"8\",\"8\",\"8\",\"8\",\"8\",\"8\",\"8\",\"8\",\"8\",\"9\",\"9\",\"9\",\"9\",\"9\",\"9\",\"9\",\"9\",\"9\",\"9\",\"9\",\"9\",\"9\",\"9\",\"9\",\"9\",\"9\",\"9\",\"9\",\"9\",\"9\",\"9\",\"9\",\"9\",\"9\",\"9\",\"9\",\"9\",\"9\",\"9\",\"9\",\"9\",\"9\",\"9\",\"9\",\"9\",\"9\",\"9\",\"9\",\"9\",\"9\",\"9\",\"9\",\"9\",\"10\",\"10\",\"10\",\"10\",\"10\",\"10\",\"10\",\"10\",\"10\",\"10\",\"10\",\"10\",\"10\",\"10\",\"10\",\"10\",\"10\",\"10\",\"10\",\"10\",\"10\",\"10\",\"10\",\"10\",\"10\",\"10\",\"10\",\"10\",\"10\",\"10\",\"10\",\"10\",\"10\"],\"xaxis\":\"x\",\"y\":[25.0,52.0,52.0,30.0,51.0,25.0,15.0,18.0,21.0,65.0,33.0,43.0,57.0,56.0,60.0,54.0,52.0,32.0,26.0,54.0,45.0,29.0,39.0,25.0,32.0,57.0,33.0,30.0,37.0,38.0,30.0,21.0,42.0,41.0,33.0,25.0,32.0,21.0,20.0,28.0,21.0,30.0,41.0,30.0,61.0,43.0,23.0,20.0,22.0,22.0,35.0,19.0,17.0,29.0,16.0,16.0,29.0,12.0,11.0,25.0,19.0,11.0,25.0,28.0,22.0,24.0,27.0,20.0,25.0,14.0,28.0,19.0,83.0,50.0,57.0,100.0,77.0,64.0,42.0,60.0,63.0,63.0,52.0,100.0,42.0,45.0,62.0,60.0,83.0,56.0,59.0,69.0,67.0,79.0,73.0,62.0,63.0,57.0,71.0,81.0,65.0,99.0,78.0,46.0,37.0,70.0,70.0,75.0,63.0,59.0,78.0,63.0,82.0,71.0,80.0,58.0,67.0,72.0,79.0,70.0,54.0,52.5,44.5,56.5,66.0,39.0,77.5,49.5,58.5,73.0,51.5,54.0,44.0,60.0,60.5,35.5,25.0,67.5,68.0,69.5,18.5,10.5,8.5,26.5,22.5,22.5,18.5,18.5,17.5,18.5,27.5,32.5,23.5,15.5,20.5,28.5,22.5,28.5,14.5,22.5,20.5,11.5,17.5,21.5,22.5,12.5,8.5,21.5,19.5,15.5,14.5,16.5,19.5,25.5,15.5,22.5,18.5,14.5,16.5,18.5,16.5,19.5,23.5,20.5,13.5,28.5,6.5,25.5,18.5,29.5,33.5,29.0,36.5,45.0,18.5,29.5,45.0,23.0,32.5,30.5,29.0,42.5,35.5,21.5,32.0,28.5,40.0,34.0,44.0,32.5,28.0,39.5,36.5,43.5,33.0,49.0,37.0,42.0,77.9,21.0,20.7,78.9,40.5,75.5,78.9,57.7,77.9,100.0,23.7,21.7,100.0,15.3,47.6,55.3,30.8,54.3,37.5,76.2,41.5,98.4,100.0,55.3,55.3,45.2,57.7,66.1,56.0,70.0,76.0,84.0,65.0,84.0,79.0,81.0,62.0,85.0,59.0,83.0,77.0,69.0,80.0,72.0,83.0,77.0,86.0,93.0,52.0,88.0,76.0,80.0,77.0,65.0,65.0,87.0,79.0,82.0,75.0,79.0,72.0,73.0,69.0,20.0,19.5,23.0,10.5,14.5,21.5,21.0,18.5,17.5,21.0,17.5,21.0,20.0,17.5,15.0,19.5,15.0,15.0,24.0,14.5,16.5,22.0,18.5,17.5,17.0,21.5,21.5,23.0,15.0,18.0,18.0,23.0,20.5,20.5,12.5,12.0,17.0,20.0,15.5,25.0,15.5,20.0,23.0,17.5,32.0,50.5,35.5,34.5,23.0,33.0,39.5,34.0,41.0,34.5,45.0,36.5,48.0,34.5,47.0,42.5,40.5,48.0,42.0,45.5,44.0,20.5,43.5,40.5,48.0,41.5,42.0,41.5,46.5,21.0,42.0,14.0,41.5],\"yaxis\":\"y\",\"type\":\"scatter\"}],                        {\"template\":{\"data\":{\"histogram2dcontour\":[{\"type\":\"histogram2dcontour\",\"colorbar\":{\"outlinewidth\":0,\"ticks\":\"\"},\"colorscale\":[[0.0,\"#0d0887\"],[0.1111111111111111,\"#46039f\"],[0.2222222222222222,\"#7201a8\"],[0.3333333333333333,\"#9c179e\"],[0.4444444444444444,\"#bd3786\"],[0.5555555555555556,\"#d8576b\"],[0.6666666666666666,\"#ed7953\"],[0.7777777777777778,\"#fb9f3a\"],[0.8888888888888888,\"#fdca26\"],[1.0,\"#f0f921\"]]}],\"choropleth\":[{\"type\":\"choropleth\",\"colorbar\":{\"outlinewidth\":0,\"ticks\":\"\"}}],\"histogram2d\":[{\"type\":\"histogram2d\",\"colorbar\":{\"outlinewidth\":0,\"ticks\":\"\"},\"colorscale\":[[0.0,\"#0d0887\"],[0.1111111111111111,\"#46039f\"],[0.2222222222222222,\"#7201a8\"],[0.3333333333333333,\"#9c179e\"],[0.4444444444444444,\"#bd3786\"],[0.5555555555555556,\"#d8576b\"],[0.6666666666666666,\"#ed7953\"],[0.7777777777777778,\"#fb9f3a\"],[0.8888888888888888,\"#fdca26\"],[1.0,\"#f0f921\"]]}],\"heatmap\":[{\"type\":\"heatmap\",\"colorbar\":{\"outlinewidth\":0,\"ticks\":\"\"},\"colorscale\":[[0.0,\"#0d0887\"],[0.1111111111111111,\"#46039f\"],[0.2222222222222222,\"#7201a8\"],[0.3333333333333333,\"#9c179e\"],[0.4444444444444444,\"#bd3786\"],[0.5555555555555556,\"#d8576b\"],[0.6666666666666666,\"#ed7953\"],[0.7777777777777778,\"#fb9f3a\"],[0.8888888888888888,\"#fdca26\"],[1.0,\"#f0f921\"]]}],\"heatmapgl\":[{\"type\":\"heatmapgl\",\"colorbar\":{\"outlinewidth\":0,\"ticks\":\"\"},\"colorscale\":[[0.0,\"#0d0887\"],[0.1111111111111111,\"#46039f\"],[0.2222222222222222,\"#7201a8\"],[0.3333333333333333,\"#9c179e\"],[0.4444444444444444,\"#bd3786\"],[0.5555555555555556,\"#d8576b\"],[0.6666666666666666,\"#ed7953\"],[0.7777777777777778,\"#fb9f3a\"],[0.8888888888888888,\"#fdca26\"],[1.0,\"#f0f921\"]]}],\"contourcarpet\":[{\"type\":\"contourcarpet\",\"colorbar\":{\"outlinewidth\":0,\"ticks\":\"\"}}],\"contour\":[{\"type\":\"contour\",\"colorbar\":{\"outlinewidth\":0,\"ticks\":\"\"},\"colorscale\":[[0.0,\"#0d0887\"],[0.1111111111111111,\"#46039f\"],[0.2222222222222222,\"#7201a8\"],[0.3333333333333333,\"#9c179e\"],[0.4444444444444444,\"#bd3786\"],[0.5555555555555556,\"#d8576b\"],[0.6666666666666666,\"#ed7953\"],[0.7777777777777778,\"#fb9f3a\"],[0.8888888888888888,\"#fdca26\"],[1.0,\"#f0f921\"]]}],\"surface\":[{\"type\":\"surface\",\"colorbar\":{\"outlinewidth\":0,\"ticks\":\"\"},\"colorscale\":[[0.0,\"#0d0887\"],[0.1111111111111111,\"#46039f\"],[0.2222222222222222,\"#7201a8\"],[0.3333333333333333,\"#9c179e\"],[0.4444444444444444,\"#bd3786\"],[0.5555555555555556,\"#d8576b\"],[0.6666666666666666,\"#ed7953\"],[0.7777777777777778,\"#fb9f3a\"],[0.8888888888888888,\"#fdca26\"],[1.0,\"#f0f921\"]]}],\"mesh3d\":[{\"type\":\"mesh3d\",\"colorbar\":{\"outlinewidth\":0,\"ticks\":\"\"}}],\"scatter\":[{\"fillpattern\":{\"fillmode\":\"overlay\",\"size\":10,\"solidity\":0.2},\"type\":\"scatter\"}],\"parcoords\":[{\"type\":\"parcoords\",\"line\":{\"colorbar\":{\"outlinewidth\":0,\"ticks\":\"\"}}}],\"scatterpolargl\":[{\"type\":\"scatterpolargl\",\"marker\":{\"colorbar\":{\"outlinewidth\":0,\"ticks\":\"\"}}}],\"bar\":[{\"error_x\":{\"color\":\"#2a3f5f\"},\"error_y\":{\"color\":\"#2a3f5f\"},\"marker\":{\"line\":{\"color\":\"#E5ECF6\",\"width\":0.5},\"pattern\":{\"fillmode\":\"overlay\",\"size\":10,\"solidity\":0.2}},\"type\":\"bar\"}],\"scattergeo\":[{\"type\":\"scattergeo\",\"marker\":{\"colorbar\":{\"outlinewidth\":0,\"ticks\":\"\"}}}],\"scatterpolar\":[{\"type\":\"scatterpolar\",\"marker\":{\"colorbar\":{\"outlinewidth\":0,\"ticks\":\"\"}}}],\"histogram\":[{\"marker\":{\"pattern\":{\"fillmode\":\"overlay\",\"size\":10,\"solidity\":0.2}},\"type\":\"histogram\"}],\"scattergl\":[{\"type\":\"scattergl\",\"marker\":{\"colorbar\":{\"outlinewidth\":0,\"ticks\":\"\"}}}],\"scatter3d\":[{\"type\":\"scatter3d\",\"line\":{\"colorbar\":{\"outlinewidth\":0,\"ticks\":\"\"}},\"marker\":{\"colorbar\":{\"outlinewidth\":0,\"ticks\":\"\"}}}],\"scattermapbox\":[{\"type\":\"scattermapbox\",\"marker\":{\"colorbar\":{\"outlinewidth\":0,\"ticks\":\"\"}}}],\"scatterternary\":[{\"type\":\"scatterternary\",\"marker\":{\"colorbar\":{\"outlinewidth\":0,\"ticks\":\"\"}}}],\"scattercarpet\":[{\"type\":\"scattercarpet\",\"marker\":{\"colorbar\":{\"outlinewidth\":0,\"ticks\":\"\"}}}],\"carpet\":[{\"aaxis\":{\"endlinecolor\":\"#2a3f5f\",\"gridcolor\":\"white\",\"linecolor\":\"white\",\"minorgridcolor\":\"white\",\"startlinecolor\":\"#2a3f5f\"},\"baxis\":{\"endlinecolor\":\"#2a3f5f\",\"gridcolor\":\"white\",\"linecolor\":\"white\",\"minorgridcolor\":\"white\",\"startlinecolor\":\"#2a3f5f\"},\"type\":\"carpet\"}],\"table\":[{\"cells\":{\"fill\":{\"color\":\"#EBF0F8\"},\"line\":{\"color\":\"white\"}},\"header\":{\"fill\":{\"color\":\"#C8D4E3\"},\"line\":{\"color\":\"white\"}},\"type\":\"table\"}],\"barpolar\":[{\"marker\":{\"line\":{\"color\":\"#E5ECF6\",\"width\":0.5},\"pattern\":{\"fillmode\":\"overlay\",\"size\":10,\"solidity\":0.2}},\"type\":\"barpolar\"}],\"pie\":[{\"automargin\":true,\"type\":\"pie\"}]},\"layout\":{\"autotypenumbers\":\"strict\",\"colorway\":[\"#636efa\",\"#EF553B\",\"#00cc96\",\"#ab63fa\",\"#FFA15A\",\"#19d3f3\",\"#FF6692\",\"#B6E880\",\"#FF97FF\",\"#FECB52\"],\"font\":{\"color\":\"#2a3f5f\"},\"hovermode\":\"closest\",\"hoverlabel\":{\"align\":\"left\"},\"paper_bgcolor\":\"white\",\"plot_bgcolor\":\"#E5ECF6\",\"polar\":{\"bgcolor\":\"#E5ECF6\",\"angularaxis\":{\"gridcolor\":\"white\",\"linecolor\":\"white\",\"ticks\":\"\"},\"radialaxis\":{\"gridcolor\":\"white\",\"linecolor\":\"white\",\"ticks\":\"\"}},\"ternary\":{\"bgcolor\":\"#E5ECF6\",\"aaxis\":{\"gridcolor\":\"white\",\"linecolor\":\"white\",\"ticks\":\"\"},\"baxis\":{\"gridcolor\":\"white\",\"linecolor\":\"white\",\"ticks\":\"\"},\"caxis\":{\"gridcolor\":\"white\",\"linecolor\":\"white\",\"ticks\":\"\"}},\"coloraxis\":{\"colorbar\":{\"outlinewidth\":0,\"ticks\":\"\"}},\"colorscale\":{\"sequential\":[[0.0,\"#0d0887\"],[0.1111111111111111,\"#46039f\"],[0.2222222222222222,\"#7201a8\"],[0.3333333333333333,\"#9c179e\"],[0.4444444444444444,\"#bd3786\"],[0.5555555555555556,\"#d8576b\"],[0.6666666666666666,\"#ed7953\"],[0.7777777777777778,\"#fb9f3a\"],[0.8888888888888888,\"#fdca26\"],[1.0,\"#f0f921\"]],\"sequentialminus\":[[0.0,\"#0d0887\"],[0.1111111111111111,\"#46039f\"],[0.2222222222222222,\"#7201a8\"],[0.3333333333333333,\"#9c179e\"],[0.4444444444444444,\"#bd3786\"],[0.5555555555555556,\"#d8576b\"],[0.6666666666666666,\"#ed7953\"],[0.7777777777777778,\"#fb9f3a\"],[0.8888888888888888,\"#fdca26\"],[1.0,\"#f0f921\"]],\"diverging\":[[0,\"#8e0152\"],[0.1,\"#c51b7d\"],[0.2,\"#de77ae\"],[0.3,\"#f1b6da\"],[0.4,\"#fde0ef\"],[0.5,\"#f7f7f7\"],[0.6,\"#e6f5d0\"],[0.7,\"#b8e186\"],[0.8,\"#7fbc41\"],[0.9,\"#4d9221\"],[1,\"#276419\"]]},\"xaxis\":{\"gridcolor\":\"white\",\"linecolor\":\"white\",\"ticks\":\"\",\"title\":{\"standoff\":15},\"zerolinecolor\":\"white\",\"automargin\":true,\"zerolinewidth\":2},\"yaxis\":{\"gridcolor\":\"white\",\"linecolor\":\"white\",\"ticks\":\"\",\"title\":{\"standoff\":15},\"zerolinecolor\":\"white\",\"automargin\":true,\"zerolinewidth\":2},\"scene\":{\"xaxis\":{\"backgroundcolor\":\"#E5ECF6\",\"gridcolor\":\"white\",\"linecolor\":\"white\",\"showbackground\":true,\"ticks\":\"\",\"zerolinecolor\":\"white\",\"gridwidth\":2},\"yaxis\":{\"backgroundcolor\":\"#E5ECF6\",\"gridcolor\":\"white\",\"linecolor\":\"white\",\"showbackground\":true,\"ticks\":\"\",\"zerolinecolor\":\"white\",\"gridwidth\":2},\"zaxis\":{\"backgroundcolor\":\"#E5ECF6\",\"gridcolor\":\"white\",\"linecolor\":\"white\",\"showbackground\":true,\"ticks\":\"\",\"zerolinecolor\":\"white\",\"gridwidth\":2}},\"shapedefaults\":{\"line\":{\"color\":\"#2a3f5f\"}},\"annotationdefaults\":{\"arrowcolor\":\"#2a3f5f\",\"arrowhead\":0,\"arrowwidth\":1},\"geo\":{\"bgcolor\":\"white\",\"landcolor\":\"#E5ECF6\",\"subunitcolor\":\"white\",\"showland\":true,\"showlakes\":true,\"lakecolor\":\"white\"},\"title\":{\"x\":0.05},\"mapbox\":{\"style\":\"light\"}}},\"xaxis\":{\"anchor\":\"y\",\"domain\":[0.0,1.0],\"title\":{\"text\":\"escola\"}},\"yaxis\":{\"anchor\":\"x\",\"domain\":[0.0,1.0],\"title\":{\"text\":\"desempenho\"}},\"legend\":{\"tracegroupgap\":0},\"margin\":{\"t\":60}},                        {\"responsive\": true}                    ).then(function(){\n",
       "                            \n",
       "var gd = document.getElementById('beaf1c11-f5ea-4679-ad15-6c7cca0627db');\n",
       "var x = new MutationObserver(function (mutations, observer) {{\n",
       "        var display = window.getComputedStyle(gd).display;\n",
       "        if (!display || display === 'none') {{\n",
       "            console.log([gd, 'removed!']);\n",
       "            Plotly.purge(gd);\n",
       "            observer.disconnect();\n",
       "        }}\n",
       "}});\n",
       "\n",
       "// Listen for the removal of the full notebook cells\n",
       "var notebookContainer = gd.closest('#notebook-container');\n",
       "if (notebookContainer) {{\n",
       "    x.observe(notebookContainer, {childList: true});\n",
       "}}\n",
       "\n",
       "// Listen for the clearing of the current output cell\n",
       "var outputEl = gd.closest('.output');\n",
       "if (outputEl) {{\n",
       "    x.observe(outputEl, {childList: true});\n",
       "}}\n",
       "\n",
       "                        })                };                });            </script>        </div>"
      ]
     },
     "metadata": {},
     "output_type": "display_data"
    }
   ],
   "source": [
    "import plotly.express as px\n",
    "\n",
    "fig = px.scatter(df_escola, x='escola', y='desempenho')\n",
    "#fig.add_trace(go.Scatter(y='cpi_y', mode='lines'))\n",
    "\n",
    "fig.show()"
   ]
  },
  {
   "cell_type": "markdown",
   "id": "90ae3a28",
   "metadata": {},
   "source": [
    "### Box-plot do Desempenho"
   ]
  },
  {
   "cell_type": "code",
   "execution_count": 65,
   "id": "442d385f",
   "metadata": {},
   "outputs": [
    {
     "data": {
      "text/plain": [
       "<AxesSubplot:ylabel='desempenho'>"
      ]
     },
     "execution_count": 65,
     "metadata": {},
     "output_type": "execute_result"
    },
    {
     "data": {
      "image/png": "[encoded data removed]",
      "text/plain": [
       "<Figure size 640x480 with 1 Axes>"
      ]
     },
     "metadata": {},
     "output_type": "display_data"
    }
   ],
   "source": [
    "sns.boxplot(y=df_escola.desempenho)"
   ]
  },
  {
   "cell_type": "markdown",
   "id": "eb923351",
   "metadata": {},
   "source": [
    "### Histograma do Desempenho"
   ]
  },
  {
   "cell_type": "code",
   "execution_count": 66,
   "id": "4e47790c",
   "metadata": {},
   "outputs": [
    {
     "data": {
      "text/plain": [
       "<Figure size 1500x1000 with 0 Axes>"
      ]
     },
     "metadata": {},
     "output_type": "display_data"
    },
    {
     "data": {
      "image/png": "[encoded data removed]",
      "text/plain": [
       "<Figure size 500x500 with 1 Axes>"
      ]
     },
     "metadata": {},
     "output_type": "display_data"
    }
   ],
   "source": [
    "from scipy.stats import norm\n",
    "\n",
    "plt.figure(figsize=(15,10))\n",
    "sns.displot(df_escola.desempenho, kde=True, bins=30)\n",
    "plt.xlabel('Desempenho', fontsize=16)\n",
    "plt.ylabel('density', fontsize=16)\n",
    "plt.show()"
   ]
  },
  {
   "cell_type": "markdown",
   "id": "b8a3abda",
   "metadata": {},
   "source": [
    "### Box-plot Desempenho por Escola"
   ]
  },
  {
   "cell_type": "code",
   "execution_count": 67,
   "id": "0e401233",
   "metadata": {},
   "outputs": [
    {
     "data": {
      "text/plain": [
       "<AxesSubplot:xlabel='escola', ylabel='desempenho'>"
      ]
     },
     "execution_count": 67,
     "metadata": {},
     "output_type": "execute_result"
    },
    {
     "data": {
      "image/png": "[encoded data removed]",
      "text/plain": [
       "<Figure size 640x480 with 1 Axes>"
      ]
     },
     "metadata": {},
     "output_type": "display_data"
    }
   ],
   "source": [
    "sns.boxplot(x=df_escola.escola, y=df_escola.desempenho)"
   ]
  },
  {
   "cell_type": "markdown",
   "id": "ea374589",
   "metadata": {},
   "source": [
    "### Histograma Desempenho por Escola"
   ]
  },
  {
   "cell_type": "code",
   "execution_count": null,
   "id": "1c4aac94",
   "metadata": {},
   "outputs": [],
   "source": []
  },
  {
   "cell_type": "markdown",
   "id": "f5ee71ed",
   "metadata": {},
   "source": [
    "### Gráfico com Desempenho do modelo OLS"
   ]
  },
  {
   "cell_type": "code",
   "execution_count": 68,
   "id": "33b09140",
   "metadata": {},
   "outputs": [
    {
     "data": {
      "image/png": "[encoded data removed]",
      "text/plain": [
       "<Figure size 640x480 with 1 Axes>"
      ]
     },
     "metadata": {},
     "output_type": "display_data"
    }
   ],
   "source": [
    "plt.plot(df_escola.horas, df_escola.desempenho, 'o', color='black', markersize=3)\n",
    "sns.regplot(x=\"horas\", y=\"desempenho\", data=df_escola)\n",
    "plt.title('Dispersão dos dados com linear fit')\n",
    "plt.xlabel('Horas')\n",
    "plt.ylabel('Desempenho')\n",
    "plt.show()"
   ]
  },
  {
   "cell_type": "markdown",
   "id": "6f0af858",
   "metadata": {},
   "source": [
    "### Gráfico com Perspectiva Multinível\n",
    "\n",
    "Captura o comportamento heterocedástico nos dados"
   ]
  },
  {
   "cell_type": "code",
   "execution_count": null,
   "id": "6678d639",
   "metadata": {},
   "outputs": [],
   "source": []
  },
  {
   "cell_type": "markdown",
   "id": "68ac5815",
   "metadata": {},
   "source": [
    "# Estimação do Modelo Nulo\n",
    "\n",
    "Avaliar o LogLike para verificar se existe significância estatística da variância do efeito aleatório de intercépto. <br>\n",
    "Caso não tenha, partimos para o modelo OLS\n",
    "\n",
    "**Testando se os termos aleatórios são estatisticamente diferentes de zero**"
   ]
  },
  {
   "cell_type": "markdown",
   "id": "83d7bcfa",
   "metadata": {},
   "source": [
    "### Modelo Nulo\n",
    "\n",
    "Avaliar a importância relativa de cada um dos contextos (no caso escola)"
   ]
  },
  {
   "cell_type": "code",
   "execution_count": 110,
   "id": "cb3fa48f",
   "metadata": {},
   "outputs": [
    {
     "data": {
      "text/html": [
       "<table class=\"simpletable\">\n",
       "<tr>\n",
       "       <td>Model:</td>       <td>MixedLM</td> <td>Dependent Variable:</td> <td>desempenho</td>\n",
       "</tr>\n",
       "<tr>\n",
       "  <td>No. Observations:</td>   <td>358</td>         <td>Method:</td>          <td>REML</td>   \n",
       "</tr>\n",
       "<tr>\n",
       "     <td>No. Groups:</td>      <td>10</td>          <td>Scale:</td>         <td>142.9242</td> \n",
       "</tr>\n",
       "<tr>\n",
       "  <td>Min. group size:</td>    <td>20</td>      <td>Log-Likelihood:</td>   <td>-1416.0074</td>\n",
       "</tr>\n",
       "<tr>\n",
       "  <td>Max. group size:</td>    <td>48</td>        <td>Converged:</td>          <td>Yes</td>   \n",
       "</tr>\n",
       "<tr>\n",
       "  <td>Mean group size:</td>   <td>35.8</td>            <td></td>                <td></td>     \n",
       "</tr>\n",
       "</table>\n",
       "<table class=\"simpletable\">\n",
       "<tr>\n",
       "      <td></td>       <th>Coef.</th>  <th>Std.Err.</th>   <th>z</th>   <th>P>|z|</th> <th>[0.025</th> <th>0.975]</th>\n",
       "</tr>\n",
       "<tr>\n",
       "  <th>Intercept</th> <td>42.387</td>    <td>6.468</td>  <td>6.553</td> <td>0.000</td> <td>29.709</td> <td>55.065</td>\n",
       "</tr>\n",
       "<tr>\n",
       "  <th>Group Var</th> <td>414.067</td>  <td>16.695</td>    <td></td>      <td></td>       <td></td>       <td></td>   \n",
       "</tr>\n",
       "</table>"
      ],
      "text/plain": [
       "<class 'statsmodels.iolib.summary2.Summary'>\n",
       "\"\"\"\n",
       "         Mixed Linear Model Regression Results\n",
       "========================================================\n",
       "Model:            MixedLM Dependent Variable: desempenho\n",
       "No. Observations: 358     Method:             REML      \n",
       "No. Groups:       10      Scale:              142.9242  \n",
       "Min. group size:  20      Log-Likelihood:     -1416.0074\n",
       "Max. group size:  48      Converged:          Yes       \n",
       "Mean group size:  35.8                                  \n",
       "--------------------------------------------------------\n",
       "               Coef.  Std.Err.   z   P>|z| [0.025 0.975]\n",
       "--------------------------------------------------------\n",
       "Intercept      42.387    6.468 6.553 0.000 29.709 55.065\n",
       "Group Var     414.067   16.695                          \n",
       "========================================================\n",
       "\n",
       "\"\"\""
      ]
     },
     "execution_count": 110,
     "metadata": {},
     "output_type": "execute_result"
    }
   ],
   "source": [
    "#https://www.statsmodels.org/stable/mixed_linear.html\n",
    "import statsmodels.api as sm\n",
    "\n",
    "modelo_nulo_hlm2 = sm.MixedLM.from_formula(\"desempenho ~ 1\", df_escola, groups=df_escola['escola']).fit()\n",
    "modelo_nulo_hlm2.summary()"
   ]
  },
  {
   "cell_type": "code",
   "execution_count": 159,
   "id": "9f8126eb",
   "metadata": {},
   "outputs": [
    {
     "data": {
      "text/plain": [
       "True"
      ]
     },
     "execution_count": 159,
     "metadata": {},
     "output_type": "execute_result"
    }
   ],
   "source": [
    "modelo_nulo_hlm2."
   ]
  },
  {
   "cell_type": "code",
   "execution_count": 103,
   "id": "a5c205f7",
   "metadata": {},
   "outputs": [
    {
     "data": {
      "text/plain": [
       "Intercept    0.000\n",
       "Group Var    0.038\n",
       "dtype: float64"
      ]
     },
     "execution_count": 103,
     "metadata": {},
     "output_type": "execute_result"
    }
   ],
   "source": [
    "modelo_nulo_hlm2.pvalues.round(3)"
   ]
  },
  {
   "cell_type": "markdown",
   "id": "0de43dce",
   "metadata": {},
   "source": [
    "Modelo:\n",
    "\n",
    "> DESEMPENHOij = 42,387 + V0j + ERROij\n",
    "\n",
    "Verificando efeito aleatório de intercepto:\n",
    "<br>\n",
    "\n",
    "<center><b>V0j (Group Var) = 414,067 p-value: 0,038</b> </center>\n",
    "\n",
    "> H0: É estatisticamente significante igual a 0 <br>\n",
    "> H1: É estatisticamente diferente de 0\n",
    "\n",
    "p-value < 0,05 rejeita-se H0\n",
    "\n",
    "Então existem diferenças no desempenho de alunos provenientes de escolas diferentes."
   ]
  },
  {
   "cell_type": "markdown",
   "id": "43b8040e",
   "metadata": {},
   "source": [
    "#### ICC (Intraclass Correlation)\n",
    "\n",
    "Qual a importância relativa do efeito escola sobre o desempenho?"
   ]
  },
  {
   "cell_type": "code",
   "execution_count": 113,
   "id": "009aaf16",
   "metadata": {},
   "outputs": [
    {
     "data": {
      "text/plain": [
       "0.7433995366533618"
      ]
     },
     "execution_count": 113,
     "metadata": {},
     "output_type": "execute_result"
    }
   ],
   "source": [
    "icc = 414.067 / (414.067 + 142.9242)\n",
    "icc"
   ]
  },
  {
   "cell_type": "markdown",
   "id": "0234c3fe",
   "metadata": {},
   "source": [
    "**74,34% da variação  do desempenho da nota do vestibular é devido ao efeito escola**"
   ]
  },
  {
   "cell_type": "markdown",
   "id": "275284bd",
   "metadata": {},
   "source": [
    "## Comparativo entre Ganho de Loglike Entre Modelo Nulo OLS e Modelo Nulo Multinível"
   ]
  },
  {
   "cell_type": "code",
   "execution_count": 118,
   "id": "95927d77",
   "metadata": {},
   "outputs": [],
   "source": [
    "#Função para Verificar estatisticamente ganho no LogLike entre os Modelos\n",
    "from scipy.stats import chi2\n",
    "\n",
    "def llr_test (model_ref, model_test):\n",
    "    \n",
    "    if model_ref == model_test:\n",
    "\n",
    "        stats_chi2 = -2*(model_ref.llnull - model_test.llf)\n",
    "        \n",
    "        return print(f\"\"\"LogLike Modelo Nulo: {model_ref.llnull:.2f}\n",
    "LogLike Modelo: {model_test.llf:.2f}\n",
    "Estatistica Chi2: {stats_chi2:.2f}\n",
    "P-value Chi2: {1-chi2.cdf(stats_chi2, df=model_test.df_modelwc)}\"\"\")\n",
    "            \n",
    "    else:\n",
    "        \n",
    "        stats_chi2 = -2*(model_ref.llf - model_test.llf)\n",
    "        \n",
    "        return print(f\"\"\"LogLike Modelo Ref: {model_ref.llf:.2f}\n",
    "LogLike Modelo: {model_test.llf:.2f} \n",
    "Estatistica Chi2: {stats_chi2:.2f}\n",
    "P-value Chi2: {1-chi2.cdf(stats_chi2, df=model_test.df_modelwc)}\"\"\")"
   ]
  },
  {
   "cell_type": "code",
   "execution_count": 120,
   "id": "eaed6508",
   "metadata": {},
   "outputs": [],
   "source": [
    "modelo_ols_nulo = sm.OLS.from_formula(\"desempenho ~ 1\", df_escola).fit()\n",
    "#modelo_ols_nulo.summary()"
   ]
  },
  {
   "cell_type": "code",
   "execution_count": 119,
   "id": "688427f3",
   "metadata": {},
   "outputs": [
    {
     "name": "stdout",
     "output_type": "stream",
     "text": [
      "LogLike Modelo Ref: -1633.49\n",
      "LogLike Modelo: -1416.01 \n",
      "Estatistica Chi2: 434.96\n",
      "P-value Chi2: 0.0\n"
     ]
    }
   ],
   "source": [
    "llr_test(modelo_ols_nulo, modelo_nulo_hlm2)"
   ]
  },
  {
   "cell_type": "markdown",
   "id": "df0e1529",
   "metadata": {},
   "source": [
    "**Apenas com a inclusão do Efeito Aleatório de Intercepto já temos um ganho de LogLike, ou seja, permitir que existam efeitos aleatórios de intercepto no nível escola.** "
   ]
  },
  {
   "cell_type": "code",
   "execution_count": 128,
   "id": "570af140",
   "metadata": {},
   "outputs": [
    {
     "data": {
      "text/plain": [
       "Text(0.5, 1.0, 'Comparação do LL')"
      ]
     },
     "execution_count": 128,
     "metadata": {},
     "output_type": "execute_result"
    },
    {
     "data": {
      "image/png": "[encoded data removed]",
      "text/plain": [
       "<Figure size 800x300 with 1 Axes>"
      ]
     },
     "metadata": {},
     "output_type": "display_data"
    }
   ],
   "source": [
    "#Definição do dataframe com os modelos e respectivos LL\n",
    "df_llf = pd.DataFrame({'modelo':['OLS Nulo','HLM2 Nulo'],\n",
    "                      'loglik':[modelo_ols_nulo.llf,\n",
    "                                modelo_nulo_hlm2.llf]})\n",
    "df_llf\n",
    "\n",
    "#Plotagem propriamente dita\n",
    "fig, ax = plt.subplots(figsize=(8,3))\n",
    "\n",
    "c = [\"#440154FF\", \"#453781FF\", \"#22A884FF\", \"orange\", \"green\"]\n",
    "\n",
    "ax1 = ax.barh(df_llf.modelo, df_llf.loglik, color = c)\n",
    "ax.bar_label(ax1, label_type='center', color='white', fontsize=12)\n",
    "ax.set_ylabel(\"Modelo\", fontsize=12)\n",
    "ax.set_xlabel(\"Log-Likehood\", fontsize=12)\n",
    "plt.title('Comparação do LL')"
   ]
  },
  {
   "cell_type": "code",
   "execution_count": null,
   "id": "76d0d88d",
   "metadata": {},
   "outputs": [],
   "source": []
  }
 ],
 "metadata": {
  "kernelspec": {
   "display_name": "Python 3 (ipykernel)",
   "language": "python",
   "name": "python3"
  },
  "language_info": {
   "codemirror_mode": {
    "name": "ipython",
    "version": 3
   },
   "file_extension": ".py",
   "mimetype": "text/x-python",
   "name": "python",
   "nbconvert_exporter": "python",
   "pygments_lexer": "ipython3",
   "version": "3.9.13"
  }
 },
 "nbformat": 4,
 "nbformat_minor": 5
}
